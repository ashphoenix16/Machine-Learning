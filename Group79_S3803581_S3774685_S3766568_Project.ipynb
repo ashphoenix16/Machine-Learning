{
 "cells": [
  {
   "cell_type": "markdown",
   "metadata": {},
   "source": [
    "# Predicting diabetes for a given patient"
   ]
  },
  {
   "cell_type": "markdown",
   "metadata": {},
   "source": [
    "Table of Contents:\n",
    "- [Data Description](#1) \n",
    "- [Project Objective](#2)\n",
    "- [Data Preparation](#3)\n",
    "- [Data Exploration](#4) \n",
    "- [Predictive Modeling - Overview](#5) \n",
    "- [Feature Ranking & Selection](#6) \n",
    "- [Model Evaluation](#7)\n",
    "- [Performance Comparison](#8)\n",
    "- [Model Evaluation Metrics](#9)\n",
    "- [Limitations](#10)\n",
    "- [Summary & Conclusion](#11)\n",
    "- [Reference](#12)\n"
   ]
  },
  {
   "cell_type": "markdown",
   "metadata": {},
   "source": [
    "## Data Description <a class=\"anchor\" id=\"1\"></a> "
   ]
  },
  {
   "cell_type": "markdown",
   "metadata": {},
   "source": [
    "The report aims to model the Pima Indians Diabetes data,a binary classification problem and predict whether a person has diabetes or not based on the information available about the patient such as glucose levels, body mass index (BMI), blood pressure, etc using different Machine Learning algorithms. The dataset is originally from the 'National Institute of Diabetes and Digestive and Kidney Diseases' and is sourced from Kaggle.The dataset provides information about 767 female patients that are above 21 years of age belonging to the Pima Indian heritage (subgroup of Native Americans).The descriptive features contain 8 numeric features. The target feature 'Outcome' has two classes defined as '0' and '1' where 0 denotes non-diabetic patient and 1 denotes diabetic patient."
   ]
  },
  {
   "cell_type": "markdown",
   "metadata": {},
   "source": [
    "**Feature Description:**\n",
    "* Pregnancies: Number of times pregnant\n",
    "* Glucose: Plasma glucose concentration \n",
    "* BloodPressure: Diastolic blood pressure (mm Hg)\n",
    "* SkinThickness: Triceps skin fold thickness (mm)\n",
    "* Insulin: Insulin serum level (mu U/ml)\n",
    "* BMI: Body mass index (Weight (kg)/height(m)2)\n",
    "* DiabetesPedigreeFunction: Score that determine the likelihood of diabetes based on family history\n",
    "* Age: Age (years)\n",
    "* Outcome: Target Class variable (0 if non-diabetic, 1 if diabetic)"
   ]
  },
  {
   "cell_type": "markdown",
   "metadata": {},
   "source": [
    "## Project Objective <a class=\"anchor\" id=\"2\"></a> "
   ]
  },
  {
   "cell_type": "markdown",
   "metadata": {},
   "source": [
    "The main aim of our project is to correctly predict the true positive class of the target feature (diabetic patients) with a minimal amount of error in the prediction of the positive class.\n",
    "\n"
   ]
  },
  {
   "cell_type": "markdown",
   "metadata": {},
   "source": [
    "## Data Preparation <a class=\"anchor\" id=\"3\"></a> \n"
   ]
  },
  {
   "cell_type": "markdown",
   "metadata": {},
   "source": [
    "The dataset needs to be preprocessed and transformed into clean data before building a stastical model for the data. "
   ]
  },
  {
   "cell_type": "markdown",
   "metadata": {},
   "source": [
    "### Reading the dataset"
   ]
  },
  {
   "cell_type": "markdown",
   "metadata": {},
   "source": [
    "The diabetes.csv file is imported using the read_csv function. We have set the random state to 99 at the beginning of our analysis in order to replicate our results later on.\n"
   ]
  },
  {
   "cell_type": "code",
   "execution_count": 1,
   "metadata": {},
   "outputs": [],
   "source": [
    "#!pip install --upgrade altair\n",
    "#!pip install vega vega_datasets"
   ]
  },
  {
   "cell_type": "code",
   "execution_count": 2,
   "metadata": {},
   "outputs": [],
   "source": [
    "import warnings\n",
    "warnings.filterwarnings(\"ignore\")\n",
    "\n",
    "import numpy as np\n",
    "import pandas as pd\n",
    "import seaborn as sns\n",
    "\n",
    "pd.set_option('display.max_columns', None) \n",
    "\n",
    "diabetes = pd.read_csv(\"diabetes.csv\",sep=\",\",header=0)"
   ]
  },
  {
   "cell_type": "markdown",
   "metadata": {},
   "source": [
    "The dimensions of the dataset and the datatypes of features are checked to ensure that the dataframe has been imported correctly and that the feature types match the description provided about each feature i.e the descriptive features are numeric.\n",
    "\n"
   ]
  },
  {
   "cell_type": "code",
   "execution_count": 3,
   "metadata": {},
   "outputs": [
    {
     "name": "stdout",
     "output_type": "stream",
     "text": [
      "Shape of the dataset is (768, 9) \n",
      "\n",
      "Data types as follows: \n",
      "Pregnancies                   int64\n",
      "Glucose                       int64\n",
      "BloodPressure                 int64\n",
      "SkinThickness                 int64\n",
      "Insulin                       int64\n",
      "BMI                         float64\n",
      "DiabetesPedigreeFunction    float64\n",
      "Age                           int64\n",
      "Outcome                       int64\n",
      "dtype: object\n"
     ]
    }
   ],
   "source": [
    "print(f\"Shape of the dataset is {diabetes.shape} \\n\")\n",
    "print(\"Data types as follows: \")\n",
    "print(diabetes.dtypes)"
   ]
  },
  {
   "cell_type": "markdown",
   "metadata": {},
   "source": [
    "### Checking for missing values\n"
   ]
  },
  {
   "cell_type": "markdown",
   "metadata": {},
   "source": [
    "We need to ensure that there are no missing values in any feature so that it does not interfere with the Machine Learning algorithms applied to this dataset at a later stage. We check for missing values and find the sum of missing values.\n",
    "\n"
   ]
  },
  {
   "cell_type": "code",
   "execution_count": 4,
   "metadata": {},
   "outputs": [
    {
     "data": {
      "text/plain": [
       "Pregnancies                 0\n",
       "Glucose                     0\n",
       "BloodPressure               0\n",
       "SkinThickness               0\n",
       "Insulin                     0\n",
       "BMI                         0\n",
       "DiabetesPedigreeFunction    0\n",
       "Age                         0\n",
       "Outcome                     0\n",
       "dtype: int64"
      ]
     },
     "execution_count": 4,
     "metadata": {},
     "output_type": "execute_result"
    }
   ],
   "source": [
    "diabetes.isna().sum()"
   ]
  },
  {
   "cell_type": "markdown",
   "metadata": {},
   "source": [
    "We can notice that there are zero missing values in the entire dataset. Next we check for the summary statistics of the descriptive features."
   ]
  },
  {
   "cell_type": "code",
   "execution_count": 5,
   "metadata": {},
   "outputs": [
    {
     "data": {
      "text/html": [
       "<b>Table 1: Summary of all features</b>"
      ],
      "text/plain": [
       "<IPython.core.display.HTML object>"
      ]
     },
     "metadata": {},
     "output_type": "display_data"
    },
    {
     "data": {
      "text/html": [
       "<div>\n",
       "<style scoped>\n",
       "    .dataframe tbody tr th:only-of-type {\n",
       "        vertical-align: middle;\n",
       "    }\n",
       "\n",
       "    .dataframe tbody tr th {\n",
       "        vertical-align: top;\n",
       "    }\n",
       "\n",
       "    .dataframe thead th {\n",
       "        text-align: right;\n",
       "    }\n",
       "</style>\n",
       "<table border=\"1\" class=\"dataframe\">\n",
       "  <thead>\n",
       "    <tr style=\"text-align: right;\">\n",
       "      <th></th>\n",
       "      <th>Pregnancies</th>\n",
       "      <th>Glucose</th>\n",
       "      <th>BloodPressure</th>\n",
       "      <th>SkinThickness</th>\n",
       "      <th>Insulin</th>\n",
       "      <th>BMI</th>\n",
       "      <th>DiabetesPedigreeFunction</th>\n",
       "      <th>Age</th>\n",
       "      <th>Outcome</th>\n",
       "    </tr>\n",
       "  </thead>\n",
       "  <tbody>\n",
       "    <tr>\n",
       "      <th>count</th>\n",
       "      <td>768.000</td>\n",
       "      <td>768.000</td>\n",
       "      <td>768.000</td>\n",
       "      <td>768.000</td>\n",
       "      <td>768.000</td>\n",
       "      <td>768.000</td>\n",
       "      <td>768.000</td>\n",
       "      <td>768.000</td>\n",
       "      <td>768.000</td>\n",
       "    </tr>\n",
       "    <tr>\n",
       "      <th>mean</th>\n",
       "      <td>3.845</td>\n",
       "      <td>120.895</td>\n",
       "      <td>69.105</td>\n",
       "      <td>20.536</td>\n",
       "      <td>79.799</td>\n",
       "      <td>31.993</td>\n",
       "      <td>0.472</td>\n",
       "      <td>33.241</td>\n",
       "      <td>0.349</td>\n",
       "    </tr>\n",
       "    <tr>\n",
       "      <th>std</th>\n",
       "      <td>3.370</td>\n",
       "      <td>31.973</td>\n",
       "      <td>19.356</td>\n",
       "      <td>15.952</td>\n",
       "      <td>115.244</td>\n",
       "      <td>7.884</td>\n",
       "      <td>0.331</td>\n",
       "      <td>11.760</td>\n",
       "      <td>0.477</td>\n",
       "    </tr>\n",
       "    <tr>\n",
       "      <th>min</th>\n",
       "      <td>0.000</td>\n",
       "      <td>0.000</td>\n",
       "      <td>0.000</td>\n",
       "      <td>0.000</td>\n",
       "      <td>0.000</td>\n",
       "      <td>0.000</td>\n",
       "      <td>0.078</td>\n",
       "      <td>21.000</td>\n",
       "      <td>0.000</td>\n",
       "    </tr>\n",
       "    <tr>\n",
       "      <th>25%</th>\n",
       "      <td>1.000</td>\n",
       "      <td>99.000</td>\n",
       "      <td>62.000</td>\n",
       "      <td>0.000</td>\n",
       "      <td>0.000</td>\n",
       "      <td>27.300</td>\n",
       "      <td>0.244</td>\n",
       "      <td>24.000</td>\n",
       "      <td>0.000</td>\n",
       "    </tr>\n",
       "    <tr>\n",
       "      <th>50%</th>\n",
       "      <td>3.000</td>\n",
       "      <td>117.000</td>\n",
       "      <td>72.000</td>\n",
       "      <td>23.000</td>\n",
       "      <td>30.500</td>\n",
       "      <td>32.000</td>\n",
       "      <td>0.372</td>\n",
       "      <td>29.000</td>\n",
       "      <td>0.000</td>\n",
       "    </tr>\n",
       "    <tr>\n",
       "      <th>75%</th>\n",
       "      <td>6.000</td>\n",
       "      <td>140.250</td>\n",
       "      <td>80.000</td>\n",
       "      <td>32.000</td>\n",
       "      <td>127.250</td>\n",
       "      <td>36.600</td>\n",
       "      <td>0.626</td>\n",
       "      <td>41.000</td>\n",
       "      <td>1.000</td>\n",
       "    </tr>\n",
       "    <tr>\n",
       "      <th>max</th>\n",
       "      <td>17.000</td>\n",
       "      <td>199.000</td>\n",
       "      <td>122.000</td>\n",
       "      <td>99.000</td>\n",
       "      <td>846.000</td>\n",
       "      <td>67.100</td>\n",
       "      <td>2.420</td>\n",
       "      <td>81.000</td>\n",
       "      <td>1.000</td>\n",
       "    </tr>\n",
       "  </tbody>\n",
       "</table>\n",
       "</div>"
      ],
      "text/plain": [
       "       Pregnancies  Glucose  BloodPressure  SkinThickness  Insulin      BMI  \\\n",
       "count      768.000  768.000        768.000        768.000  768.000  768.000   \n",
       "mean         3.845  120.895         69.105         20.536   79.799   31.993   \n",
       "std          3.370   31.973         19.356         15.952  115.244    7.884   \n",
       "min          0.000    0.000          0.000          0.000    0.000    0.000   \n",
       "25%          1.000   99.000         62.000          0.000    0.000   27.300   \n",
       "50%          3.000  117.000         72.000         23.000   30.500   32.000   \n",
       "75%          6.000  140.250         80.000         32.000  127.250   36.600   \n",
       "max         17.000  199.000        122.000         99.000  846.000   67.100   \n",
       "\n",
       "       DiabetesPedigreeFunction      Age  Outcome  \n",
       "count                   768.000  768.000  768.000  \n",
       "mean                      0.472   33.241    0.349  \n",
       "std                       0.331   11.760    0.477  \n",
       "min                       0.078   21.000    0.000  \n",
       "25%                       0.244   24.000    0.000  \n",
       "50%                       0.372   29.000    0.000  \n",
       "75%                       0.626   41.000    1.000  \n",
       "max                       2.420   81.000    1.000  "
      ]
     },
     "execution_count": 5,
     "metadata": {},
     "output_type": "execute_result"
    }
   ],
   "source": [
    "from IPython.display import display, HTML\n",
    "display(HTML('<b>Table 1: Summary of all features</b>'))\n",
    "diabetes.describe().round(3)"
   ]
  },
  {
   "cell_type": "markdown",
   "metadata": {},
   "source": [
    "In the descriptive summary table we can observe that the features Glucose,BloodPressure,SkinThickness,Insulin & BMI have their minimum value as zero which does not seem to be logical.These zero values seem to be potential missing values and have been re-encoded as NaN to identify them as missing values."
   ]
  },
  {
   "cell_type": "code",
   "execution_count": 6,
   "metadata": {},
   "outputs": [],
   "source": [
    "diabetes_impute = diabetes.copy()\n",
    "diabetes_impute[[\"Glucose\",\"BloodPressure\",\"SkinThickness\",\"Insulin\",\"BMI\"]]=diabetes_impute[[\"Glucose\",\"BloodPressure\",\"SkinThickness\",\"Insulin\",\"BMI\"]].replace(0, np.NaN)"
   ]
  },
  {
   "cell_type": "markdown",
   "metadata": {},
   "source": [
    "We again check for missing values in the dataset and the unusual(0) values have now been re-encoded as missing values.\n",
    "\n"
   ]
  },
  {
   "cell_type": "code",
   "execution_count": 7,
   "metadata": {},
   "outputs": [
    {
     "data": {
      "text/plain": [
       "Pregnancies                   0\n",
       "Glucose                       5\n",
       "BloodPressure                35\n",
       "SkinThickness               227\n",
       "Insulin                     374\n",
       "BMI                          11\n",
       "DiabetesPedigreeFunction      0\n",
       "Age                           0\n",
       "Outcome                       0\n",
       "dtype: int64"
      ]
     },
     "execution_count": 7,
     "metadata": {},
     "output_type": "execute_result"
    }
   ],
   "source": [
    "diabetes_impute.isna().sum()"
   ]
  },
  {
   "cell_type": "markdown",
   "metadata": {},
   "source": [
    "The missing values have been imputed with the median value of the respective features.Dropping the observations with missing values would reduce the size of the dataset considerably.\n",
    "\n"
   ]
  },
  {
   "cell_type": "code",
   "execution_count": 8,
   "metadata": {},
   "outputs": [
    {
     "name": "stdout",
     "output_type": "stream",
     "text": [
      "Imputing the missing values with median for the following features:\n",
      "\n",
      "Glucose: Median = 117.0\n",
      "BloodPressure: Median = 72.0\n",
      "SkinThickness: Median = 29.0\n",
      "Insulin: Median = 125.0\n",
      "BMI: Median = 32.3\n"
     ]
    }
   ],
   "source": [
    "#Imputing missing values with median\n",
    "impute_features = ['Glucose', 'BloodPressure', 'SkinThickness', 'Insulin','BMI']\n",
    "print(\"Imputing the missing values with median for the following features:\\n\")\n",
    "for col in impute_features:\n",
    "    median = np.round(diabetes_impute[col].median(), 3)\n",
    "    print(col + ': Median = ' + str(median))\n",
    "    diabetes_impute[col] = diabetes_impute[col].fillna(median)"
   ]
  },
  {
   "cell_type": "markdown",
   "metadata": {},
   "source": [
    "The 10 randomly selected rows is displayed as follows:\n",
    "\n"
   ]
  },
  {
   "cell_type": "code",
   "execution_count": 9,
   "metadata": {},
   "outputs": [
    {
     "data": {
      "text/html": [
       "<div>\n",
       "<style scoped>\n",
       "    .dataframe tbody tr th:only-of-type {\n",
       "        vertical-align: middle;\n",
       "    }\n",
       "\n",
       "    .dataframe tbody tr th {\n",
       "        vertical-align: top;\n",
       "    }\n",
       "\n",
       "    .dataframe thead th {\n",
       "        text-align: right;\n",
       "    }\n",
       "</style>\n",
       "<table border=\"1\" class=\"dataframe\">\n",
       "  <thead>\n",
       "    <tr style=\"text-align: right;\">\n",
       "      <th></th>\n",
       "      <th>Pregnancies</th>\n",
       "      <th>Glucose</th>\n",
       "      <th>BloodPressure</th>\n",
       "      <th>SkinThickness</th>\n",
       "      <th>Insulin</th>\n",
       "      <th>BMI</th>\n",
       "      <th>DiabetesPedigreeFunction</th>\n",
       "      <th>Age</th>\n",
       "      <th>Outcome</th>\n",
       "    </tr>\n",
       "  </thead>\n",
       "  <tbody>\n",
       "    <tr>\n",
       "      <th>129</th>\n",
       "      <td>0</td>\n",
       "      <td>105</td>\n",
       "      <td>84</td>\n",
       "      <td>0</td>\n",
       "      <td>0</td>\n",
       "      <td>27.9</td>\n",
       "      <td>0.741</td>\n",
       "      <td>62</td>\n",
       "      <td>1</td>\n",
       "    </tr>\n",
       "    <tr>\n",
       "      <th>113</th>\n",
       "      <td>4</td>\n",
       "      <td>76</td>\n",
       "      <td>62</td>\n",
       "      <td>0</td>\n",
       "      <td>0</td>\n",
       "      <td>34.0</td>\n",
       "      <td>0.391</td>\n",
       "      <td>25</td>\n",
       "      <td>0</td>\n",
       "    </tr>\n",
       "    <tr>\n",
       "      <th>288</th>\n",
       "      <td>4</td>\n",
       "      <td>96</td>\n",
       "      <td>56</td>\n",
       "      <td>17</td>\n",
       "      <td>49</td>\n",
       "      <td>20.8</td>\n",
       "      <td>0.340</td>\n",
       "      <td>26</td>\n",
       "      <td>0</td>\n",
       "    </tr>\n",
       "    <tr>\n",
       "      <th>610</th>\n",
       "      <td>3</td>\n",
       "      <td>106</td>\n",
       "      <td>54</td>\n",
       "      <td>21</td>\n",
       "      <td>158</td>\n",
       "      <td>30.9</td>\n",
       "      <td>0.292</td>\n",
       "      <td>24</td>\n",
       "      <td>0</td>\n",
       "    </tr>\n",
       "    <tr>\n",
       "      <th>6</th>\n",
       "      <td>3</td>\n",
       "      <td>78</td>\n",
       "      <td>50</td>\n",
       "      <td>32</td>\n",
       "      <td>88</td>\n",
       "      <td>31.0</td>\n",
       "      <td>0.248</td>\n",
       "      <td>26</td>\n",
       "      <td>1</td>\n",
       "    </tr>\n",
       "    <tr>\n",
       "      <th>22</th>\n",
       "      <td>7</td>\n",
       "      <td>196</td>\n",
       "      <td>90</td>\n",
       "      <td>0</td>\n",
       "      <td>0</td>\n",
       "      <td>39.8</td>\n",
       "      <td>0.451</td>\n",
       "      <td>41</td>\n",
       "      <td>1</td>\n",
       "    </tr>\n",
       "    <tr>\n",
       "      <th>258</th>\n",
       "      <td>1</td>\n",
       "      <td>193</td>\n",
       "      <td>50</td>\n",
       "      <td>16</td>\n",
       "      <td>375</td>\n",
       "      <td>25.9</td>\n",
       "      <td>0.655</td>\n",
       "      <td>24</td>\n",
       "      <td>0</td>\n",
       "    </tr>\n",
       "    <tr>\n",
       "      <th>392</th>\n",
       "      <td>1</td>\n",
       "      <td>131</td>\n",
       "      <td>64</td>\n",
       "      <td>14</td>\n",
       "      <td>415</td>\n",
       "      <td>23.7</td>\n",
       "      <td>0.389</td>\n",
       "      <td>21</td>\n",
       "      <td>0</td>\n",
       "    </tr>\n",
       "    <tr>\n",
       "      <th>593</th>\n",
       "      <td>2</td>\n",
       "      <td>82</td>\n",
       "      <td>52</td>\n",
       "      <td>22</td>\n",
       "      <td>115</td>\n",
       "      <td>28.5</td>\n",
       "      <td>1.699</td>\n",
       "      <td>25</td>\n",
       "      <td>0</td>\n",
       "    </tr>\n",
       "    <tr>\n",
       "      <th>143</th>\n",
       "      <td>10</td>\n",
       "      <td>108</td>\n",
       "      <td>66</td>\n",
       "      <td>0</td>\n",
       "      <td>0</td>\n",
       "      <td>32.4</td>\n",
       "      <td>0.272</td>\n",
       "      <td>42</td>\n",
       "      <td>1</td>\n",
       "    </tr>\n",
       "  </tbody>\n",
       "</table>\n",
       "</div>"
      ],
      "text/plain": [
       "     Pregnancies  Glucose  BloodPressure  SkinThickness  Insulin   BMI  \\\n",
       "129            0      105             84              0        0  27.9   \n",
       "113            4       76             62              0        0  34.0   \n",
       "288            4       96             56             17       49  20.8   \n",
       "610            3      106             54             21      158  30.9   \n",
       "6              3       78             50             32       88  31.0   \n",
       "22             7      196             90              0        0  39.8   \n",
       "258            1      193             50             16      375  25.9   \n",
       "392            1      131             64             14      415  23.7   \n",
       "593            2       82             52             22      115  28.5   \n",
       "143           10      108             66              0        0  32.4   \n",
       "\n",
       "     DiabetesPedigreeFunction  Age  Outcome  \n",
       "129                     0.741   62        1  \n",
       "113                     0.391   25        0  \n",
       "288                     0.340   26        0  \n",
       "610                     0.292   24        0  \n",
       "6                       0.248   26        1  \n",
       "22                      0.451   41        1  \n",
       "258                     0.655   24        0  \n",
       "392                     0.389   21        0  \n",
       "593                     1.699   25        0  \n",
       "143                     0.272   42        1  "
      ]
     },
     "execution_count": 9,
     "metadata": {},
     "output_type": "execute_result"
    }
   ],
   "source": [
    "diabetes.sample(n=10, random_state=99)\n"
   ]
  },
  {
   "cell_type": "markdown",
   "metadata": {},
   "source": [
    "Before performing any further preprocessing steps we split the dataset into a set of descriptive and target feature respectively.The target feature is already encoded as 0 and 1.\n"
   ]
  },
  {
   "cell_type": "code",
   "execution_count": 10,
   "metadata": {},
   "outputs": [],
   "source": [
    "data = diabetes_impute.drop(columns = 'Outcome')\n",
    "\n",
    "target = diabetes_impute['Outcome']"
   ]
  },
  {
   "cell_type": "markdown",
   "metadata": {},
   "source": [
    "### Scaling descriptive features"
   ]
  },
  {
   "cell_type": "markdown",
   "metadata": {},
   "source": [
    "Normalizing all the descriptive numerical features using min max scaling method using the preprocessing module in sklearn."
   ]
  },
  {
   "cell_type": "code",
   "execution_count": 11,
   "metadata": {},
   "outputs": [],
   "source": [
    "from sklearn import preprocessing\n",
    "\n",
    "data_normalized = preprocessing.MinMaxScaler().fit_transform(data)\n",
    "\n",
    "diabetes_df = pd.DataFrame(data_normalized, \n",
    "                                    columns=data.columns)\n"
   ]
  },
  {
   "cell_type": "code",
   "execution_count": 12,
   "metadata": {},
   "outputs": [
    {
     "data": {
      "text/html": [
       "<div>\n",
       "<style scoped>\n",
       "    .dataframe tbody tr th:only-of-type {\n",
       "        vertical-align: middle;\n",
       "    }\n",
       "\n",
       "    .dataframe tbody tr th {\n",
       "        vertical-align: top;\n",
       "    }\n",
       "\n",
       "    .dataframe thead th {\n",
       "        text-align: right;\n",
       "    }\n",
       "</style>\n",
       "<table border=\"1\" class=\"dataframe\">\n",
       "  <thead>\n",
       "    <tr style=\"text-align: right;\">\n",
       "      <th></th>\n",
       "      <th>Pregnancies</th>\n",
       "      <th>Glucose</th>\n",
       "      <th>BloodPressure</th>\n",
       "      <th>SkinThickness</th>\n",
       "      <th>Insulin</th>\n",
       "      <th>BMI</th>\n",
       "      <th>DiabetesPedigreeFunction</th>\n",
       "      <th>Age</th>\n",
       "    </tr>\n",
       "  </thead>\n",
       "  <tbody>\n",
       "    <tr>\n",
       "      <th>129</th>\n",
       "      <td>0.000000</td>\n",
       "      <td>0.393548</td>\n",
       "      <td>0.612245</td>\n",
       "      <td>0.239130</td>\n",
       "      <td>0.133413</td>\n",
       "      <td>0.198364</td>\n",
       "      <td>0.283091</td>\n",
       "      <td>0.683333</td>\n",
       "    </tr>\n",
       "    <tr>\n",
       "      <th>113</th>\n",
       "      <td>0.235294</td>\n",
       "      <td>0.206452</td>\n",
       "      <td>0.387755</td>\n",
       "      <td>0.239130</td>\n",
       "      <td>0.133413</td>\n",
       "      <td>0.323108</td>\n",
       "      <td>0.133646</td>\n",
       "      <td>0.066667</td>\n",
       "    </tr>\n",
       "    <tr>\n",
       "      <th>288</th>\n",
       "      <td>0.235294</td>\n",
       "      <td>0.335484</td>\n",
       "      <td>0.326531</td>\n",
       "      <td>0.108696</td>\n",
       "      <td>0.042067</td>\n",
       "      <td>0.053170</td>\n",
       "      <td>0.111870</td>\n",
       "      <td>0.083333</td>\n",
       "    </tr>\n",
       "    <tr>\n",
       "      <th>610</th>\n",
       "      <td>0.176471</td>\n",
       "      <td>0.400000</td>\n",
       "      <td>0.306122</td>\n",
       "      <td>0.152174</td>\n",
       "      <td>0.173077</td>\n",
       "      <td>0.259714</td>\n",
       "      <td>0.091375</td>\n",
       "      <td>0.050000</td>\n",
       "    </tr>\n",
       "    <tr>\n",
       "      <th>6</th>\n",
       "      <td>0.176471</td>\n",
       "      <td>0.219355</td>\n",
       "      <td>0.265306</td>\n",
       "      <td>0.271739</td>\n",
       "      <td>0.088942</td>\n",
       "      <td>0.261759</td>\n",
       "      <td>0.072588</td>\n",
       "      <td>0.083333</td>\n",
       "    </tr>\n",
       "    <tr>\n",
       "      <th>22</th>\n",
       "      <td>0.411765</td>\n",
       "      <td>0.980645</td>\n",
       "      <td>0.673469</td>\n",
       "      <td>0.239130</td>\n",
       "      <td>0.133413</td>\n",
       "      <td>0.441718</td>\n",
       "      <td>0.159266</td>\n",
       "      <td>0.333333</td>\n",
       "    </tr>\n",
       "    <tr>\n",
       "      <th>258</th>\n",
       "      <td>0.058824</td>\n",
       "      <td>0.961290</td>\n",
       "      <td>0.265306</td>\n",
       "      <td>0.097826</td>\n",
       "      <td>0.433894</td>\n",
       "      <td>0.157464</td>\n",
       "      <td>0.246371</td>\n",
       "      <td>0.050000</td>\n",
       "    </tr>\n",
       "    <tr>\n",
       "      <th>392</th>\n",
       "      <td>0.058824</td>\n",
       "      <td>0.561290</td>\n",
       "      <td>0.408163</td>\n",
       "      <td>0.076087</td>\n",
       "      <td>0.481971</td>\n",
       "      <td>0.112474</td>\n",
       "      <td>0.132792</td>\n",
       "      <td>0.000000</td>\n",
       "    </tr>\n",
       "    <tr>\n",
       "      <th>593</th>\n",
       "      <td>0.117647</td>\n",
       "      <td>0.245161</td>\n",
       "      <td>0.285714</td>\n",
       "      <td>0.163043</td>\n",
       "      <td>0.121394</td>\n",
       "      <td>0.210634</td>\n",
       "      <td>0.692143</td>\n",
       "      <td>0.066667</td>\n",
       "    </tr>\n",
       "    <tr>\n",
       "      <th>143</th>\n",
       "      <td>0.588235</td>\n",
       "      <td>0.412903</td>\n",
       "      <td>0.428571</td>\n",
       "      <td>0.239130</td>\n",
       "      <td>0.133413</td>\n",
       "      <td>0.290389</td>\n",
       "      <td>0.082835</td>\n",
       "      <td>0.350000</td>\n",
       "    </tr>\n",
       "  </tbody>\n",
       "</table>\n",
       "</div>"
      ],
      "text/plain": [
       "     Pregnancies   Glucose  BloodPressure  SkinThickness   Insulin       BMI  \\\n",
       "129     0.000000  0.393548       0.612245       0.239130  0.133413  0.198364   \n",
       "113     0.235294  0.206452       0.387755       0.239130  0.133413  0.323108   \n",
       "288     0.235294  0.335484       0.326531       0.108696  0.042067  0.053170   \n",
       "610     0.176471  0.400000       0.306122       0.152174  0.173077  0.259714   \n",
       "6       0.176471  0.219355       0.265306       0.271739  0.088942  0.261759   \n",
       "22      0.411765  0.980645       0.673469       0.239130  0.133413  0.441718   \n",
       "258     0.058824  0.961290       0.265306       0.097826  0.433894  0.157464   \n",
       "392     0.058824  0.561290       0.408163       0.076087  0.481971  0.112474   \n",
       "593     0.117647  0.245161       0.285714       0.163043  0.121394  0.210634   \n",
       "143     0.588235  0.412903       0.428571       0.239130  0.133413  0.290389   \n",
       "\n",
       "     DiabetesPedigreeFunction       Age  \n",
       "129                  0.283091  0.683333  \n",
       "113                  0.133646  0.066667  \n",
       "288                  0.111870  0.083333  \n",
       "610                  0.091375  0.050000  \n",
       "6                    0.072588  0.083333  \n",
       "22                   0.159266  0.333333  \n",
       "258                  0.246371  0.050000  \n",
       "392                  0.132792  0.000000  \n",
       "593                  0.692143  0.066667  \n",
       "143                  0.082835  0.350000  "
      ]
     },
     "execution_count": 12,
     "metadata": {},
     "output_type": "execute_result"
    }
   ],
   "source": [
    "diabetes_df.sample(n=10, random_state=99)"
   ]
  },
  {
   "cell_type": "markdown",
   "metadata": {},
   "source": [
    " "
   ]
  },
  {
   "cell_type": "markdown",
   "metadata": {},
   "source": [
    "## Data Exploration <a class=\"anchor\" id=\"4\"></a> "
   ]
  },
  {
   "cell_type": "markdown",
   "metadata": {},
   "source": [
    "We explore the data by plotting various graphs to understand the data better and check how the features of the dataset are related to each other.We start by plotting a correlation matrix to find any linear relation between the features.  "
   ]
  },
  {
   "cell_type": "code",
   "execution_count": 13,
   "metadata": {
    "scrolled": true
   },
   "outputs": [
    {
     "data": {
      "image/png": "[encoded data removed]",
      "text/plain": [
       "<Figure size 504x504 with 2 Axes>"
      ]
     },
     "metadata": {
      "needs_background": "light"
     },
     "output_type": "display_data"
    }
   ],
   "source": [
    "Corr= diabetes_impute.corr()\n",
    "import matplotlib.pyplot as plt\n",
    "f,ax=plt.subplots(figsize=(7,7))\n",
    "sns.heatmap(Corr, annot=True)\n",
    "b,t=plt.ylim()\n",
    "b+=0.5\n",
    "t-=0.5\n",
    "plt.ylim(b,t)\n",
    "plt.title(\"Heat Map\", fontsize=20)\n",
    "plt.show()"
   ]
  },
  {
   "cell_type": "markdown",
   "metadata": {},
   "source": [
    "### Univariate Visualization "
   ]
  },
  {
   "cell_type": "markdown",
   "metadata": {},
   "source": [
    "**Bar plot of diabetic and non-diabetic patients:**"
   ]
  },
  {
   "cell_type": "code",
   "execution_count": 14,
   "metadata": {},
   "outputs": [
    {
     "data": {
      "image/png": "[encoded data removed]",
      "text/plain": [
       "<Figure size 432x288 with 1 Axes>"
      ]
     },
     "metadata": {
      "needs_background": "light"
     },
     "output_type": "display_data"
    }
   ],
   "source": [
    "import seaborn as sns\n",
    "ax=sns.countplot(diabetes_impute['Outcome'])\n",
    "plt.title('Figure 1: Count of Diabetic and Non-Diabetic Women', fontsize=15)\n",
    "ax.set_xticklabels([\"Non-Diabetic\",\"Diabetic\"])\n",
    "ax.set_ylabel(\"Count\")\n",
    "plt.show()"
   ]
  },
  {
   "cell_type": "code",
   "execution_count": 15,
   "metadata": {},
   "outputs": [
    {
     "data": {
      "text/plain": [
       "0    0.651042\n",
       "1    0.348958\n",
       "Name: Outcome, dtype: float64"
      ]
     },
     "execution_count": 15,
     "metadata": {},
     "output_type": "execute_result"
    }
   ],
   "source": [
    "diabetes_impute['Outcome'].value_counts(normalize=True)\n"
   ]
  },
  {
   "cell_type": "markdown",
   "metadata": {},
   "source": [
    "In figure 1, we can see that there were 268 women who were diagnosed with diabetes whereas 500 were not. It can be seen that the the number of women with diabetes is almost half than those who are healthy. The positive class (diabetic patient) is about 34% in the dataset indicating that there is a class imbalance problem.\n"
   ]
  },
  {
   "cell_type": "markdown",
   "metadata": {},
   "source": [
    "**Boxplot of Age:**"
   ]
  },
  {
   "cell_type": "code",
   "execution_count": 16,
   "metadata": {},
   "outputs": [
    {
     "data": {
      "image/png": "[encoded data removed]",
      "text/plain": [
       "<Figure size 720x360 with 1 Axes>"
      ]
     },
     "metadata": {
      "needs_background": "light"
     },
     "output_type": "display_data"
    }
   ],
   "source": [
    "plt.figure(figsize=(10, 5))\n",
    "sns.boxplot(x=diabetes_impute[\"Age\"]).set_title(\"Figure 2: Age Boxplot\", fontsize=15)\n",
    "plt.xlabel(\"Age\", fontsize=15)\n",
    "plt.show()"
   ]
  },
  {
   "cell_type": "markdown",
   "metadata": {},
   "source": [
    "As per figure 2, there are 6 outliers. However these are well within the normal age range. From the plot, it can be seen that the dataset contains observations of women between the age range 25-40. The box plot is positively skewed as well.  "
   ]
  },
  {
   "cell_type": "markdown",
   "metadata": {},
   "source": [
    "**Histogram of Blood pressure:**"
   ]
  },
  {
   "cell_type": "code",
   "execution_count": 17,
   "metadata": {},
   "outputs": [
    {
     "data": {
      "image/png": "[encoded data removed]",
      "text/plain": [
       "<Figure size 504x288 with 1 Axes>"
      ]
     },
     "metadata": {
      "needs_background": "light"
     },
     "output_type": "display_data"
    }
   ],
   "source": [
    "plt.figure(figsize=(7, 4))\n",
    "plt.hist(\"BloodPressure\",data=diabetes_impute)\n",
    "plt.xlabel('Blood Pressure', fontsize=13)\n",
    "plt.ylabel('Count', fontsize=13)\n",
    "plt.title('Figure 3: Blood Pressure Count (mm HG)', fontsize=15)\n",
    "plt.show()"
   ]
  },
  {
   "cell_type": "markdown",
   "metadata": {},
   "source": [
    "From the histogram representation of the blood pressure (BP) column in figure 3, it can be seen that majority of the women have their BP ranged between 60-90 mm Hg. The histogram appears to be normally distributed."
   ]
  },
  {
   "cell_type": "markdown",
   "metadata": {},
   "source": [
    "**Histogram of BMI**"
   ]
  },
  {
   "cell_type": "code",
   "execution_count": 18,
   "metadata": {
    "scrolled": true
   },
   "outputs": [
    {
     "data": {
      "image/png": "[encoded data removed]",
      "text/plain": [
       "<Figure size 720x360 with 1 Axes>"
      ]
     },
     "metadata": {
      "needs_background": "light"
     },
     "output_type": "display_data"
    }
   ],
   "source": [
    "plt.figure(figsize=(10, 5))\n",
    "sns.distplot(diabetes_impute[\"BMI\"], kde=False)\n",
    "plt.ylabel(\"Count\", fontsize=15)\n",
    "plt.xlabel(\"BMI\", fontsize=15)\n",
    "plt.title('Figure 4: Body Mass Index (BMI)', fontsize=15)\n",
    "plt.show()"
   ]
  },
  {
   "cell_type": "markdown",
   "metadata": {},
   "source": [
    "Upon plotting the BMI histogram in figure 4, it can be seen that majority of the women have their body mass index ranging between 30-40. The histogram appears to be slightly right skewed. "
   ]
  },
  {
   "cell_type": "markdown",
   "metadata": {},
   "source": [
    "### Bivariate visualization"
   ]
  },
  {
   "cell_type": "markdown",
   "metadata": {},
   "source": [
    "**Box plot of Glucose levels in diabetic & non-diabetic women:**"
   ]
  },
  {
   "cell_type": "code",
   "execution_count": 19,
   "metadata": {
    "scrolled": true
   },
   "outputs": [
    {
     "data": {
      "image/png": "[encoded data removed]",
      "text/plain": [
       "<Figure size 360x360 with 1 Axes>"
      ]
     },
     "metadata": {
      "needs_background": "light"
     },
     "output_type": "display_data"
    }
   ],
   "source": [
    "plt.figure(figsize=(5, 5))\n",
    "sns.boxplot(x='Outcome', y='Glucose', data=diabetes_impute).axes.set_title(\"Figure 5: Glucose levels of Diabetic &  Non Diabetic patients\", fontsize=15)\n",
    "plt.xlabel(\"Outcome\", fontsize=15)\n",
    "plt.show()"
   ]
  },
  {
   "cell_type": "markdown",
   "metadata": {},
   "source": [
    "As per figure 5, it can be seen that most of the non diabetic women have their glucose concentration ranged between 90-130. However, the glucose concentration in diabetic women ranges from 120 to 170. There is a significant difference in the concentration level of glucose amongst diabetic and non-diabetic women. It can be inferred that diabetic women have a higher concentration of glucose in their body whereas non-diabetic women have a relatively lower concentration of glucose in their body."
   ]
  },
  {
   "cell_type": "markdown",
   "metadata": {},
   "source": [
    "**Scatter plot of BMI vs skin thickness**:"
   ]
  },
  {
   "cell_type": "code",
   "execution_count": 20,
   "metadata": {
    "scrolled": true
   },
   "outputs": [
    {
     "data": {
      "image/png": "[encoded data removed]",
      "text/plain": [
       "<Figure size 504x504 with 1 Axes>"
      ]
     },
     "metadata": {},
     "output_type": "display_data"
    }
   ],
   "source": [
    "sns.set(style=\"darkgrid\")\n",
    "plt.figure(figsize=(7, 7))\n",
    "sns.scatterplot(x=\"SkinThickness\", y=\"BMI\", data=diabetes_impute);\n",
    "plt.xlabel('Skin Thickness (mm)', fontsize=15)\n",
    "plt.ylabel('Body Mass Index (BMI)', fontsize=15)\n",
    "plt.title('Figure 6: BMI v.s. Skin thickness', fontsize=20)\n",
    "plt.show()"
   ]
  },
  {
   "cell_type": "markdown",
   "metadata": {},
   "source": [
    "\n",
    "From the scatter plot Skin Thickness vs BMI in figure 6, we can infer that BMI increases with increase in Skin Thickness. Most of the data points are concerntrated around 30 because we replaced the missing values with the median values."
   ]
  },
  {
   "cell_type": "markdown",
   "metadata": {},
   "source": [
    "**Blood pressure of diabetic & non-diabetic patients**:"
   ]
  },
  {
   "cell_type": "code",
   "execution_count": 21,
   "metadata": {
    "scrolled": true
   },
   "outputs": [
    {
     "data": {
      "image/png": "[encoded data removed]",
      "text/plain": [
       "<Figure size 432x432 with 1 Axes>"
      ]
     },
     "metadata": {},
     "output_type": "display_data"
    }
   ],
   "source": [
    "plt.figure(figsize=(6, 6))\n",
    "sns.boxplot(x='Outcome', y='BloodPressure', data=diabetes_impute).set_title(\"Figure 7: Blood Pressure of Diabetic & Non-diabetic patients\", fontsize=20)\n",
    "plt.ylabel(\"Blood Presssure (mm Hg)\", fontsize=15)\n",
    "plt.xlabel(\"Outcome\", fontsize=15)\n",
    "plt.show()"
   ]
  },
  {
   "cell_type": "markdown",
   "metadata": {},
   "source": [
    "From figure 7, we can infer that majority of the non-diabetic women have a slightly lower blood pressure in comparison with that of diabetic women. It is interesting to note that there is more variation in the blood pressure scores of non diabetic women than that of diabetic ones."
   ]
  },
  {
   "cell_type": "markdown",
   "metadata": {},
   "source": [
    "**Diabetes Pedigree function of diabetic & non-diabetic women:**"
   ]
  },
  {
   "cell_type": "code",
   "execution_count": 22,
   "metadata": {
    "scrolled": true
   },
   "outputs": [
    {
     "data": {
      "image/png": "[encoded data removed]",
      "text/plain": [
       "<Figure size 432x432 with 1 Axes>"
      ]
     },
     "metadata": {},
     "output_type": "display_data"
    }
   ],
   "source": [
    "plt.figure(figsize=(6, 6))\n",
    "sns.boxplot(x='Outcome', y='DiabetesPedigreeFunction', data=diabetes_impute).set_title(\"Figure 8: Diabetes Pedigree function of diabetic & non-diabetic women \", fontsize=20)\n",
    "plt.ylabel(\"Diabetes Pedigree Function\", fontsize=15)\n",
    "plt.xlabel(\"Outcome\", fontsize=15)\n",
    "plt.show()"
   ]
  },
  {
   "cell_type": "markdown",
   "metadata": {},
   "source": [
    "DiabetesPedigreeFunction tells us how likely a person will get diagnosed with diabetes on the basis of the family history. From figure 8, we can observe that women with diabetes have a higher score than the non diabetic ones. However, the difference isn't much. It is interesting to note that there are a lot of outliers present in the boxplot of non diabetic women. Most of these scores are above 1. It can be said that non diabetic women too can get diagnosed with diabetes in the foreseable future."
   ]
  },
  {
   "cell_type": "markdown",
   "metadata": {},
   "source": [
    "### Multivariate visualisation\n"
   ]
  },
  {
   "cell_type": "markdown",
   "metadata": {},
   "source": [
    "**Average Pregnancy vs Age for diabetic & non-diabetic women:**"
   ]
  },
  {
   "cell_type": "code",
   "execution_count": 23,
   "metadata": {},
   "outputs": [
    {
     "data": {
      "text/plain": [
       "<Figure size 2160x4320 with 0 Axes>"
      ]
     },
     "metadata": {},
     "output_type": "display_data"
    },
    {
     "data": {
      "image/png": "[encoded data removed]",
      "text/plain": [
       "<Figure size 720x360 with 2 Axes>"
      ]
     },
     "metadata": {},
     "output_type": "display_data"
    }
   ],
   "source": [
    "sns.set(style=\"darkgrid\")\n",
    "plt.figure(figsize=(30, 60))\n",
    "lm=sns.lmplot(x=\"Age\", y=\"Pregnancies\", col=\"Outcome\", hue=\"Outcome\", data=diabetes_impute,x_estimator=np.mean, x_jitter=2)\n",
    "fig = lm.fig\n",
    "a1 = fig.axes[1]\n",
    "a1.set_title(\"Diabetic\")\n",
    "a2=fig.axes[0]\n",
    "a2.set_title(\"Non Diabetic\")\n",
    "fig.suptitle(\"Figure 9: Average Pregnancy vs Age for diabetic & non-diabetic women\", size=15, verticalalignment=\"top\", horizontalalignment=\"center\", x=0.53, y=1.05)\n",
    "a2.set_ylabel(\"Average number of Pregnancies\", fontsize=13)\n",
    "plt.show()"
   ]
  },
  {
   "cell_type": "markdown",
   "metadata": {},
   "source": [
    "From figure 9 with Outcome as the filtering variable, it can be seen that the age and pregnancy share a positively linear correlation upto a certain age in both the cases. The plot represents the average no. of pregnancy a diabetic and a non diabetic woman has. For non diabetic women, beyond the age of 51, as the age increases, the average no. of pregnancy decreases. And for diabetic women, beyond the age of 45, as the age increases, the average no. of pregnancy decreases. Hence it can be said that with the course of time, average no. of pregnancy decreases. "
   ]
  },
  {
   "cell_type": "markdown",
   "metadata": {},
   "source": [
    "**Insulin vs Glucose for diabetic & non-diabetic women:**"
   ]
  },
  {
   "cell_type": "code",
   "execution_count": 24,
   "metadata": {},
   "outputs": [
    {
     "data": {
      "image/png": "[encoded data removed]",
      "text/plain": [
       "<Figure size 504x504 with 1 Axes>"
      ]
     },
     "metadata": {},
     "output_type": "display_data"
    }
   ],
   "source": [
    "sns.set(style=\"darkgrid\")\n",
    "plt.figure(figsize=(7, 7))\n",
    "lm=sns.scatterplot(x=\"Glucose\", y=\"Insulin\", hue=\"Outcome\", data=diabetes_impute)\n",
    "#new=[\"Non-Diabetic\",\"Diabetic\"]\n",
    "#for t, l in zip(lm._legend.texts,new):t.set_text(1)\n",
    "plt.xlabel('Glucose', fontsize=15)\n",
    "plt.ylabel('Insulin (mu U/ml)', fontsize=15)\n",
    "plt.title('Figure 10: Insulin vs Glucose for diabetic & non-diabetic women', fontsize=20)\n",
    "plt.show()"
   ]
  },
  {
   "cell_type": "markdown",
   "metadata": {},
   "source": [
    "From 10 with Outcome as the filtering variable, it can be seen that glucose and insulin share a linear correlation. The plot helps us to draw relation between glucose and insulin level of diabetic and non diabetic women. We can observe a set of clustered dotted points resembling a horizontal line being plotted along the x axis. These points are the missing values which were earlier replaced with the median values. "
   ]
  },
  {
   "cell_type": "markdown",
   "metadata": {},
   "source": [
    "**BMI vs Skin Thickness for diabetic vs non-diabetic patients:**"
   ]
  },
  {
   "cell_type": "code",
   "execution_count": 25,
   "metadata": {},
   "outputs": [
    {
     "data": {
      "text/plain": [
       "<Figure size 2160x5040 with 0 Axes>"
      ]
     },
     "metadata": {},
     "output_type": "display_data"
    },
    {
     "data": {
      "image/png": "[encoded data removed]",
      "text/plain": [
       "<Figure size 720x360 with 2 Axes>"
      ]
     },
     "metadata": {},
     "output_type": "display_data"
    }
   ],
   "source": [
    "sns.set(style=\"darkgrid\")\n",
    "plt.figure(figsize=(30, 70))\n",
    "lm=sns.lmplot(x=\"SkinThickness\", y=\"BMI\", hue=\"Outcome\", col=\"Outcome\", data=diabetes_impute, palette=\"Set2\")\n",
    "fig = lm.fig\n",
    "a1 = fig.axes[1]\n",
    "a1.set_title(\"Diabetic\")\n",
    "a1.set_xlabel(\"Skin Thickness (mm)\")\n",
    "a2=fig.axes[0]\n",
    "a2.set_title(\"Non Diabetic\")\n",
    "a2.set_xlabel(\"Skin Thickness (mm)\")\n",
    "fig.suptitle(\"Figure 11: BMI vs Skin Thickness for diabetic vs non-diabetic patients\", size=15, verticalalignment=\"top\", horizontalalignment=\"center\", x=0.53, y=1.05)\n",
    "\n",
    "plt.show()"
   ]
  },
  {
   "cell_type": "markdown",
   "metadata": {},
   "source": [
    "From 11 with Outcome as the filtering variable, it can be seen that skin thickness and BMI  share a positively linear correlation. The plot helps us to draw relation between skin thickness and BMI of diabetic and non diabetic women. With the course of time, as skin thickness increases, the BMI increases too. In both the cases, We can observe a set of clustered dotted points resembling a vertical line being plotted along the y axis. These points are the missing values which were earlier replaced with the median values. It can be deduced that diabetic women relatively have a higher concentration of skin thickness and BMI.  "
   ]
  },
  {
   "cell_type": "markdown",
   "metadata": {},
   "source": [
    "**Blood Pressure vs average number of pregnancies for diabetic and non diabetic women:**"
   ]
  },
  {
   "cell_type": "code",
   "execution_count": 26,
   "metadata": {},
   "outputs": [
    {
     "data": {
      "text/plain": [
       "<Figure size 2160x3600 with 0 Axes>"
      ]
     },
     "metadata": {},
     "output_type": "display_data"
    },
    {
     "data": {
      "image/png": "[encoded data removed]",
      "text/plain": [
       "<Figure size 720x360 with 2 Axes>"
      ]
     },
     "metadata": {},
     "output_type": "display_data"
    }
   ],
   "source": [
    "sns.set(style=\"darkgrid\")\n",
    "plt.figure(figsize=(30, 50))\n",
    "lm=sns.lmplot(x=\"Pregnancies\", y=\"BloodPressure\", hue=\"Outcome\", col=\"Outcome\", data=diabetes_impute, x_estimator=np.mean, x_jitter=2, markers=[\"o\", \"x\"])\n",
    "fig = lm.fig\n",
    "a1 = fig.axes[1]\n",
    "a1.set_title(\"Diabetic\")\n",
    "a1.set_xlabel(\"Average number of Pregnancies\")\n",
    "a2=fig.axes[0]\n",
    "a2.set_title(\"Non Diabetic\")\n",
    "a2.set_xlabel(\"Average number of Pregnancies\")\n",
    "fig.suptitle(\"Figure 12: Blood Pressure vs average number of pregnancies for diabetic and non diabetic women\", size=14, verticalalignment=\"top\", horizontalalignment=\"center\", x=0.53, y=1.05)\n",
    "a2.set_ylabel(\"Blood Pressure (mm Hg)\", fontsize=13)\n",
    "plt.show()"
   ]
  },
  {
   "cell_type": "markdown",
   "metadata": {},
   "source": [
    "From figure 12 with Outcome as the filtering variable, it can be seen that the number of pregnancy and blood pressure share a linear correlation for both diabetic and non-diabetic women. Diabetic women seem to have a relatively higher blood pressure than that of non diabetic womens'. Hence it can be said that with increase in number of pregancies, the blood pressure too increases."
   ]
  },
  {
   "cell_type": "markdown",
   "metadata": {},
   "source": [
    "## Predictive Modeling - Overview <a class=\"anchor\" id=\"5\"></a> "
   ]
  },
  {
   "cell_type": "markdown",
   "metadata": {},
   "source": [
    "For the dataset which poses a binary classification problem, we propose the following five classifier models to predict whether a person is diabetic or not.\n",
    "\n",
    "* K-Nearest Neighbors (KNN)\n",
    "* Decision trees (DT) \n",
    "* Random Forest(RF) \n",
    "* Naive Bayes (NB) \n",
    "* Support vector Machine(SVM) \n",
    "\n",
    "The predictive modeling phase begins with splitting the dataset into training and test set in a 70:30 ratio using stratification as the dataset suffers from a class imbalance problem wherein the target feature has more number of non-diabetic patients. We have used the entire dataset for building our statistical models since we do not have a very large dataset. We determine the top 5 features using the Random Forest Importance method(RFI) that would help contribute most to the target feature before fitting any classifier to the dataset. A 5-fold 3-repeats stratified cross-validation is performed for tuning the hyperparameters of the classifier models and fit the classifiers with the best performing hyperparameters. AUC score is used as the performance metric for our project as our ultimate goal is to find a model that rightly distinguishes between patients with diabetes and no diabetes(minimum error in predicting the positive labels).The hyperparameter tuning results are also visualized by comparing the performance given by different parameter combinations.After the five classifier models have been fine-tuned with the best hyperparameter values, we compare the performance of the classifiers on the test data that is hidden from the models to avoid bias.A paired t-test is performed to see that the better performing model has a statistically significant difference than other models. We also consider other evaluation metrics such as F1-score considering the imbalance in the target class and compare the models based on the F1-score. "
   ]
  },
  {
   "cell_type": "markdown",
   "metadata": {},
   "source": [
    "### Test Train Split"
   ]
  },
  {
   "cell_type": "markdown",
   "metadata": {},
   "source": [
    "We split the dataset as 70% training set and 30% test set partitions using stratification. Stratification has been used to ensure that the train and test sets have approximately the same percentage of samples of each target class as the complete set.\n",
    "\n"
   ]
  },
  {
   "cell_type": "code",
   "execution_count": 27,
   "metadata": {},
   "outputs": [
    {
     "name": "stdout",
     "output_type": "stream",
     "text": [
      "(537, 8)\n",
      "(231, 8)\n"
     ]
    }
   ],
   "source": [
    "from sklearn.model_selection import train_test_split\n",
    "\n",
    "diabetes_np=diabetes_df.values\n",
    "diabetes_train, diabetes_test, \\\n",
    "target_train, target_test = train_test_split(diabetes_np, target.values, \n",
    "                                                    test_size = 0.3, random_state=99,stratify = target)\n",
    "                                                    \n",
    "\n",
    "print(diabetes_train.shape)\n",
    "print(diabetes_test.shape)"
   ]
  },
  {
   "cell_type": "markdown",
   "metadata": {},
   "source": [
    "## Feature Selection & Ranking <a class=\"anchor\" id=\"6\"></a> \n"
   ]
  },
  {
   "cell_type": "markdown",
   "metadata": {},
   "source": [
    "We identify the top 5 features as selected by Random Forest Importance (RFI) filter method. We will use only those features for our prediction modeling in order to improve the accuracy and reduce overfitting issues.\n"
   ]
  },
  {
   "cell_type": "code",
   "execution_count": 28,
   "metadata": {},
   "outputs": [
    {
     "data": {
      "text/plain": [
       "array(['Glucose', 'BMI', 'Age', 'DiabetesPedigreeFunction', 'Insulin'],\n",
       "      dtype=object)"
      ]
     },
     "execution_count": 28,
     "metadata": {},
     "output_type": "execute_result"
    }
   ],
   "source": [
    "from sklearn.ensemble import RandomForestClassifier\n",
    "\n",
    "num_features = 5\n",
    "model_rfi = RandomForestClassifier(n_estimators=100, random_state=99)\n",
    "model_rfi.fit(diabetes_df, target)\n",
    "fs_indices_rfi = np.argsort(model_rfi.feature_importances_)[::-1][0:num_features]\n",
    "\n",
    "best_features_rfi = diabetes_df.columns[fs_indices_rfi].values\n",
    "best_features_rfi"
   ]
  },
  {
   "cell_type": "code",
   "execution_count": 29,
   "metadata": {},
   "outputs": [
    {
     "data": {
      "text/plain": [
       "array([0.2688559 , 0.15826588, 0.13301227, 0.12154832, 0.08522341])"
      ]
     },
     "execution_count": 29,
     "metadata": {},
     "output_type": "execute_result"
    }
   ],
   "source": [
    "feature_importances_rfi = model_rfi.feature_importances_[fs_indices_rfi]\n",
    "feature_importances_rfi\n"
   ]
  },
  {
   "cell_type": "markdown",
   "metadata": {},
   "source": [
    "Feature importance visualization:"
   ]
  },
  {
   "cell_type": "code",
   "execution_count": 30,
   "metadata": {},
   "outputs": [],
   "source": [
    "%config InlineBackend.figure_format = 'retina'\n",
    "\n",
    "import altair as alt\n",
    "alt.renderers.enable('html') # required in Jupyter notebooks\n",
    "\n",
    "def plot_imp(best_features, scores, method_name, color):\n",
    "    \n",
    "    df = pd.DataFrame({'features': best_features, \n",
    "                       'importances': scores})\n",
    "    \n",
    "    chart = alt.Chart(df, \n",
    "                      width=500, \n",
    "                      title='Feature Importance based on Random forest importance filter method'\n",
    "                     ).mark_bar(opacity=0.85, \n",
    "                                color=color).encode(\n",
    "        alt.X('features', title='Feature', sort=None, axis=alt.AxisConfig(labelAngle=45)),\n",
    "        alt.Y('importances', title='Importance')\n",
    "    )\n",
    "    \n",
    "    return chart"
   ]
  },
  {
   "cell_type": "markdown",
   "metadata": {},
   "source": [
    "The most important feature based on the method is glucose with a importance value of 0.268 followed by BMI, Age, DiabetesPedigreeFunction and Insulin.\n",
    "\n"
   ]
  },
  {
   "cell_type": "code",
   "execution_count": 31,
   "metadata": {},
   "outputs": [
    {
     "data": {
      "text/html": [
       "\n",
       "<div id=\"altair-viz-eb0105e9508c49728b9535093f5f82fb\"></div>\n",
       "<script type=\"text/javascript\">\n",
       "  (function(spec, embedOpt){\n",
       "    let outputDiv = document.currentScript.previousElementSibling;\n",
       "    if (outputDiv.id !== \"altair-viz-eb0105e9508c49728b9535093f5f82fb\") {\n",
       "      outputDiv = document.getElementById(\"altair-viz-eb0105e9508c49728b9535093f5f82fb\");\n",
       "    }\n",
       "    const paths = {\n",
       "      \"vega\": \"https://cdn.jsdelivr.net/npm//vega@5?noext\",\n",
       "      \"vega-lib\": \"https://cdn.jsdelivr.net/npm//vega-lib?noext\",\n",
       "      \"vega-lite\": \"https://cdn.jsdelivr.net/npm//vega-lite@4.8.1?noext\",\n",
       "      \"vega-embed\": \"https://cdn.jsdelivr.net/npm//vega-embed@6?noext\",\n",
       "    };\n",
       "\n",
       "    function loadScript(lib) {\n",
       "      return new Promise(function(resolve, reject) {\n",
       "        var s = document.createElement('script');\n",
       "        s.src = paths[lib];\n",
       "        s.async = true;\n",
       "        s.onload = () => resolve(paths[lib]);\n",
       "        s.onerror = () => reject(`Error loading script: ${paths[lib]}`);\n",
       "        document.getElementsByTagName(\"head\")[0].appendChild(s);\n",
       "      });\n",
       "    }\n",
       "\n",
       "    function showError(err) {\n",
       "      outputDiv.innerHTML = `<div class=\"error\" style=\"color:red;\">${err}</div>`;\n",
       "      throw err;\n",
       "    }\n",
       "\n",
       "    function displayChart(vegaEmbed) {\n",
       "      vegaEmbed(outputDiv, spec, embedOpt)\n",
       "        .catch(err => showError(`Javascript Error: ${err.message}<br>This usually means there's a typo in your chart specification. See the javascript console for the full traceback.`));\n",
       "    }\n",
       "\n",
       "    if(typeof define === \"function\" && define.amd) {\n",
       "      requirejs.config({paths});\n",
       "      require([\"vega-embed\"], displayChart, err => showError(`Error loading script: ${err.message}`));\n",
       "    } else if (typeof vegaEmbed === \"function\") {\n",
       "      displayChart(vegaEmbed);\n",
       "    } else {\n",
       "      loadScript(\"vega\")\n",
       "        .then(() => loadScript(\"vega-lite\"))\n",
       "        .then(() => loadScript(\"vega-embed\"))\n",
       "        .catch(showError)\n",
       "        .then(() => displayChart(vegaEmbed));\n",
       "    }\n",
       "  })({\"config\": {\"view\": {\"continuousWidth\": 400, \"continuousHeight\": 300}}, \"data\": {\"name\": \"data-d34590809d97485f070d4f05a2c665dd\"}, \"mark\": {\"type\": \"bar\", \"color\": \"coral\", \"opacity\": 0.85}, \"encoding\": {\"x\": {\"type\": \"nominal\", \"axis\": {\"labelAngle\": 45}, \"field\": \"features\", \"sort\": null, \"title\": \"Feature\"}, \"y\": {\"type\": \"quantitative\", \"field\": \"importances\", \"title\": \"Importance\"}}, \"title\": \"Feature Importance based on Random forest importance filter method\", \"width\": 500, \"$schema\": \"https://vega.github.io/schema/vega-lite/v4.8.1.json\", \"datasets\": {\"data-d34590809d97485f070d4f05a2c665dd\": [{\"features\": \"Glucose\", \"importances\": 0.2688558954254785}, {\"features\": \"BMI\", \"importances\": 0.15826587906606743}, {\"features\": \"Age\", \"importances\": 0.13301227431776635}, {\"features\": \"DiabetesPedigreeFunction\", \"importances\": 0.12154832492768182}, {\"features\": \"Insulin\", \"importances\": 0.08522341195998175}]}}, {\"mode\": \"vega-lite\"});\n",
       "</script>"
      ],
      "text/plain": [
       "alt.Chart(...)"
      ]
     },
     "execution_count": 31,
     "metadata": {},
     "output_type": "execute_result"
    }
   ],
   "source": [
    "plot_imp(best_features_rfi, feature_importances_rfi, 'Random Forest', 'coral')\n"
   ]
  },
  {
   "cell_type": "markdown",
   "metadata": {},
   "source": [
    "From the above figure, we can infer that glucose level, BMI, age, diabetes pedigree function and insulin levels have significant influence on the model, especially glucose level and BMI."
   ]
  },
  {
   "cell_type": "markdown",
   "metadata": {},
   "source": [
    "Selecting the most important features for modeling:"
   ]
  },
  {
   "cell_type": "code",
   "execution_count": 32,
   "metadata": {},
   "outputs": [],
   "source": [
    "diabetes_train_features = diabetes_train[:, fs_indices_rfi]\n",
    "diabetes_test_features = diabetes_test[:, fs_indices_rfi]\n"
   ]
  },
  {
   "cell_type": "markdown",
   "metadata": {},
   "source": [
    "## Model Evaluation <a class=\"anchor\" id=\"7\"></a> "
   ]
  },
  {
   "cell_type": "markdown",
   "metadata": {},
   "source": [
    "We perform a stratified 5-fold cross-validation with 3 repetitions using the RepeatedStratifiedKFold function for tuning the models specified on the training data and then testing the models on the test data. Stratification ensures that the proportion of the two labels in both train and test sets are the same as the proportion in the full dataset in each cross-validation repetition since the target feature has a fewer number of diabetic labels as compared to non diabetic labels. "
   ]
  },
  {
   "cell_type": "code",
   "execution_count": 33,
   "metadata": {},
   "outputs": [],
   "source": [
    "from sklearn.model_selection import RepeatedStratifiedKFold\n",
    "\n",
    "cv_method = RepeatedStratifiedKFold(n_splits=5,n_repeats=3, \n",
    "                                    random_state=99)"
   ]
  },
  {
   "cell_type": "markdown",
   "metadata": {},
   "source": [
    "### K-Nearest Neighbour Classifier Model Hyperparameter Tuning\n"
   ]
  },
  {
   "cell_type": "markdown",
   "metadata": {},
   "source": [
    "We find the best set of hyperparameters by searching through all possible combinations of hyperparameters during the training phase using the gridsearch method for KNN hyperparameter tuning via cross-validation.\n",
    "The KNN hyperparameters considered for the tuning process are as follows:\n",
    "* Number of neighbors (n_neighbors) - 1 to 20\n",
    "* Distance metric (p) - 1 (Manhattan), 2 (Euclidean), and 5 (Minkowski)"
   ]
  },
  {
   "cell_type": "code",
   "execution_count": 34,
   "metadata": {},
   "outputs": [],
   "source": [
    "params_KNN = {'n_neighbors': range(1,21), 'p': [1, 2, 5]}\n"
   ]
  },
  {
   "cell_type": "markdown",
   "metadata": {},
   "source": [
    "We consider the AUC score as the performance metric to optimize and evaluate."
   ]
  },
  {
   "cell_type": "code",
   "execution_count": 35,
   "metadata": {},
   "outputs": [],
   "source": [
    "from sklearn.neighbors import KNeighborsClassifier\n",
    "from sklearn.model_selection import GridSearchCV\n",
    "\n",
    "gs_KNN = GridSearchCV(estimator=KNeighborsClassifier(), \n",
    "                      param_grid=params_KNN, \n",
    "                      cv=cv_method,\n",
    "                      verbose=1,\n",
    "                      scoring='roc_auc')\n"
   ]
  },
  {
   "cell_type": "markdown",
   "metadata": {},
   "source": [
    "Fitting the KNN model on the relevant features and finding the mean cross-validation AUC score with  optimal parameters."
   ]
  },
  {
   "cell_type": "code",
   "execution_count": 36,
   "metadata": {},
   "outputs": [
    {
     "name": "stdout",
     "output_type": "stream",
     "text": [
      "Fitting 15 folds for each of 60 candidates, totalling 900 fits\n"
     ]
    },
    {
     "name": "stderr",
     "output_type": "stream",
     "text": [
      "[Parallel(n_jobs=1)]: Using backend SequentialBackend with 1 concurrent workers.\n",
      "[Parallel(n_jobs=1)]: Done 900 out of 900 | elapsed:    4.4s finished\n"
     ]
    }
   ],
   "source": [
    "gs_KNN.fit(diabetes_train_features, target_train);\n",
    "\n"
   ]
  },
  {
   "cell_type": "code",
   "execution_count": 37,
   "metadata": {},
   "outputs": [
    {
     "data": {
      "text/plain": [
       "{'n_neighbors': 14, 'p': 1}"
      ]
     },
     "execution_count": 37,
     "metadata": {},
     "output_type": "execute_result"
    }
   ],
   "source": [
    "gs_KNN.best_params_\n"
   ]
  },
  {
   "cell_type": "code",
   "execution_count": 38,
   "metadata": {},
   "outputs": [
    {
     "data": {
      "text/plain": [
       "0.8429387658335027"
      ]
     },
     "execution_count": 38,
     "metadata": {},
     "output_type": "execute_result"
    }
   ],
   "source": [
    "gs_KNN.best_score_\n"
   ]
  },
  {
   "cell_type": "markdown",
   "metadata": {},
   "source": [
    " The best performing KNN model has 14 nearest neighbors and  𝑝=1 i.e  the Manhattan distance with a mean AUC score of 0.843 for the best five features.\n",
    "\n"
   ]
  },
  {
   "cell_type": "code",
   "execution_count": 39,
   "metadata": {},
   "outputs": [],
   "source": [
    "results_KNN = pd.DataFrame(gs_KNN.cv_results_['params'])\n",
    "results_KNN['test_score'] = gs_KNN.cv_results_['mean_test_score']\n",
    "results_KNN['metric'] = results_KNN['p'].replace([1,2,5], [\"Manhattan\", \"Euclidean\",\"Minkowski\"])\n"
   ]
  },
  {
   "cell_type": "markdown",
   "metadata": {},
   "source": [
    "Plotting the hyperparameter tuning results from the cross-validation using the altair module. The plot below shows that K = 14 with the Manhattan distance metric (p=1) performs better than other hyperparameter combinations.\n",
    "\n"
   ]
  },
  {
   "cell_type": "code",
   "execution_count": 40,
   "metadata": {},
   "outputs": [
    {
     "data": {
      "text/html": [
       "\n",
       "<div id=\"altair-viz-7b5c8f3bbb41438b9a2e53d849bbaad9\"></div>\n",
       "<script type=\"text/javascript\">\n",
       "  (function(spec, embedOpt){\n",
       "    let outputDiv = document.currentScript.previousElementSibling;\n",
       "    if (outputDiv.id !== \"altair-viz-7b5c8f3bbb41438b9a2e53d849bbaad9\") {\n",
       "      outputDiv = document.getElementById(\"altair-viz-7b5c8f3bbb41438b9a2e53d849bbaad9\");\n",
       "    }\n",
       "    const paths = {\n",
       "      \"vega\": \"https://cdn.jsdelivr.net/npm//vega@5?noext\",\n",
       "      \"vega-lib\": \"https://cdn.jsdelivr.net/npm//vega-lib?noext\",\n",
       "      \"vega-lite\": \"https://cdn.jsdelivr.net/npm//vega-lite@4.8.1?noext\",\n",
       "      \"vega-embed\": \"https://cdn.jsdelivr.net/npm//vega-embed@6?noext\",\n",
       "    };\n",
       "\n",
       "    function loadScript(lib) {\n",
       "      return new Promise(function(resolve, reject) {\n",
       "        var s = document.createElement('script');\n",
       "        s.src = paths[lib];\n",
       "        s.async = true;\n",
       "        s.onload = () => resolve(paths[lib]);\n",
       "        s.onerror = () => reject(`Error loading script: ${paths[lib]}`);\n",
       "        document.getElementsByTagName(\"head\")[0].appendChild(s);\n",
       "      });\n",
       "    }\n",
       "\n",
       "    function showError(err) {\n",
       "      outputDiv.innerHTML = `<div class=\"error\" style=\"color:red;\">${err}</div>`;\n",
       "      throw err;\n",
       "    }\n",
       "\n",
       "    function displayChart(vegaEmbed) {\n",
       "      vegaEmbed(outputDiv, spec, embedOpt)\n",
       "        .catch(err => showError(`Javascript Error: ${err.message}<br>This usually means there's a typo in your chart specification. See the javascript console for the full traceback.`));\n",
       "    }\n",
       "\n",
       "    if(typeof define === \"function\" && define.amd) {\n",
       "      requirejs.config({paths});\n",
       "      require([\"vega-embed\"], displayChart, err => showError(`Error loading script: ${err.message}`));\n",
       "    } else if (typeof vegaEmbed === \"function\") {\n",
       "      displayChart(vegaEmbed);\n",
       "    } else {\n",
       "      loadScript(\"vega\")\n",
       "        .then(() => loadScript(\"vega-lite\"))\n",
       "        .then(() => loadScript(\"vega-embed\"))\n",
       "        .catch(showError)\n",
       "        .then(() => displayChart(vegaEmbed));\n",
       "    }\n",
       "  })({\"config\": {\"view\": {\"continuousWidth\": 400, \"continuousHeight\": 300}}, \"data\": {\"name\": \"data-4ab4ed00d1d48d21ffe9142532415c21\"}, \"mark\": {\"type\": \"line\", \"point\": true}, \"encoding\": {\"color\": {\"type\": \"nominal\", \"field\": \"metric\"}, \"x\": {\"type\": \"quantitative\", \"field\": \"n_neighbors\", \"title\": \"Number of Neighbors\"}, \"y\": {\"type\": \"quantitative\", \"field\": \"test_score\", \"scale\": {\"zero\": false}, \"title\": \"Mean AUC Score\"}}, \"title\": \"KNN Performance Comparison\", \"$schema\": \"https://vega.github.io/schema/vega-lite/v4.8.1.json\", \"datasets\": {\"data-4ab4ed00d1d48d21ffe9142532415c21\": [{\"n_neighbors\": 1, \"p\": 1, \"test_score\": 0.6450138860665178, \"metric\": \"Manhattan\"}, {\"n_neighbors\": 1, \"p\": 2, \"test_score\": 0.6410356973514868, \"metric\": \"Euclidean\"}, {\"n_neighbors\": 1, \"p\": 5, \"test_score\": 0.6509855720382036, \"metric\": \"Minkowski\"}, {\"n_neighbors\": 2, \"p\": 1, \"test_score\": 0.7109130935446726, \"metric\": \"Manhattan\"}, {\"n_neighbors\": 2, \"p\": 2, \"test_score\": 0.6889439815755605, \"metric\": \"Euclidean\"}, {\"n_neighbors\": 2, \"p\": 5, \"test_score\": 0.6965179841495631, \"metric\": \"Minkowski\"}, {\"n_neighbors\": 3, \"p\": 1, \"test_score\": 0.7341035019982388, \"metric\": \"Manhattan\"}, {\"n_neighbors\": 3, \"p\": 2, \"test_score\": 0.732377226850911, \"metric\": \"Euclidean\"}, {\"n_neighbors\": 3, \"p\": 5, \"test_score\": 0.7445180518864729, \"metric\": \"Minkowski\"}, {\"n_neighbors\": 4, \"p\": 1, \"test_score\": 0.7589284020862966, \"metric\": \"Manhattan\"}, {\"n_neighbors\": 4, \"p\": 2, \"test_score\": 0.768202601097338, \"metric\": \"Euclidean\"}, {\"n_neighbors\": 4, \"p\": 5, \"test_score\": 0.7664587143534513, \"metric\": \"Minkowski\"}, {\"n_neighbors\": 5, \"p\": 1, \"test_score\": 0.7812951297161823, \"metric\": \"Manhattan\"}, {\"n_neighbors\": 5, \"p\": 2, \"test_score\": 0.7985250287881865, \"metric\": \"Euclidean\"}, {\"n_neighbors\": 5, \"p\": 5, \"test_score\": 0.7838200230305495, \"metric\": \"Minkowski\"}, {\"n_neighbors\": 6, \"p\": 1, \"test_score\": 0.8000968637810743, \"metric\": \"Manhattan\"}, {\"n_neighbors\": 6, \"p\": 2, \"test_score\": 0.8084989500778974, \"metric\": \"Euclidean\"}, {\"n_neighbors\": 6, \"p\": 5, \"test_score\": 0.7968377023640182, \"metric\": \"Minkowski\"}, {\"n_neighbors\": 7, \"p\": 1, \"test_score\": 0.813245952719637, \"metric\": \"Manhattan\"}, {\"n_neighbors\": 7, \"p\": 2, \"test_score\": 0.8126183702499492, \"metric\": \"Euclidean\"}, {\"n_neighbors\": 7, \"p\": 5, \"test_score\": 0.8056421459053038, \"metric\": \"Minkowski\"}, {\"n_neighbors\": 8, \"p\": 1, \"test_score\": 0.8217919799498747, \"metric\": \"Manhattan\"}, {\"n_neighbors\": 8, \"p\": 2, \"test_score\": 0.8180610309557679, \"metric\": \"Euclidean\"}, {\"n_neighbors\": 8, \"p\": 5, \"test_score\": 0.8154965115491433, \"metric\": \"Minkowski\"}, {\"n_neighbors\": 9, \"p\": 1, \"test_score\": 0.82751507146244, \"metric\": \"Manhattan\"}, {\"n_neighbors\": 9, \"p\": 2, \"test_score\": 0.8244293165345797, \"metric\": \"Euclidean\"}, {\"n_neighbors\": 9, \"p\": 5, \"test_score\": 0.8198574138047822, \"metric\": \"Minkowski\"}, {\"n_neighbors\": 10, \"p\": 1, \"test_score\": 0.8331324933956513, \"metric\": \"Manhattan\"}, {\"n_neighbors\": 10, \"p\": 2, \"test_score\": 0.828339429655219, \"metric\": \"Euclidean\"}, {\"n_neighbors\": 10, \"p\": 5, \"test_score\": 0.8211064824222719, \"metric\": \"Minkowski\"}, {\"n_neighbors\": 11, \"p\": 1, \"test_score\": 0.8337783648309964, \"metric\": \"Manhattan\"}, {\"n_neighbors\": 11, \"p\": 2, \"test_score\": 0.8298333672017881, \"metric\": \"Euclidean\"}, {\"n_neighbors\": 11, \"p\": 5, \"test_score\": 0.821733048838312, \"metric\": \"Minkowski\"}, {\"n_neighbors\": 12, \"p\": 1, \"test_score\": 0.8391925760346814, \"metric\": \"Manhattan\"}, {\"n_neighbors\": 12, \"p\": 2, \"test_score\": 0.830766104450315, \"metric\": \"Euclidean\"}, {\"n_neighbors\": 12, \"p\": 5, \"test_score\": 0.8247287136760821, \"metric\": \"Minkowski\"}, {\"n_neighbors\": 13, \"p\": 1, \"test_score\": 0.8396477680688208, \"metric\": \"Manhattan\"}, {\"n_neighbors\": 13, \"p\": 2, \"test_score\": 0.8317076474971212, \"metric\": \"Euclidean\"}, {\"n_neighbors\": 13, \"p\": 5, \"test_score\": 0.8276495292284768, \"metric\": \"Minkowski\"}, {\"n_neighbors\": 14, \"p\": 1, \"test_score\": 0.8429387658335027, \"metric\": \"Manhattan\"}, {\"n_neighbors\": 14, \"p\": 2, \"test_score\": 0.8322488654067601, \"metric\": \"Euclidean\"}, {\"n_neighbors\": 14, \"p\": 5, \"test_score\": 0.8254020185599134, \"metric\": \"Minkowski\"}, {\"n_neighbors\": 15, \"p\": 1, \"test_score\": 0.8410702431755065, \"metric\": \"Manhattan\"}, {\"n_neighbors\": 15, \"p\": 2, \"test_score\": 0.8346159317211951, \"metric\": \"Euclidean\"}, {\"n_neighbors\": 15, \"p\": 5, \"test_score\": 0.8298343832554359, \"metric\": \"Minkowski\"}, {\"n_neighbors\": 16, \"p\": 1, \"test_score\": 0.8396481067533698, \"metric\": \"Manhattan\"}, {\"n_neighbors\": 16, \"p\": 2, \"test_score\": 0.8346965386439069, \"metric\": \"Euclidean\"}, {\"n_neighbors\": 16, \"p\": 5, \"test_score\": 0.8294899410688885, \"metric\": \"Minkowski\"}, {\"n_neighbors\": 17, \"p\": 1, \"test_score\": 0.8392376210797264, \"metric\": \"Manhattan\"}, {\"n_neighbors\": 17, \"p\": 2, \"test_score\": 0.8368431213168056, \"metric\": \"Euclidean\"}, {\"n_neighbors\": 17, \"p\": 5, \"test_score\": 0.831265325475852, \"metric\": \"Minkowski\"}, {\"n_neighbors\": 18, \"p\": 1, \"test_score\": 0.8381064146853621, \"metric\": \"Manhattan\"}, {\"n_neighbors\": 18, \"p\": 2, \"test_score\": 0.834795773216826, \"metric\": \"Euclidean\"}, {\"n_neighbors\": 18, \"p\": 5, \"test_score\": 0.8303109124161756, \"metric\": \"Minkowski\"}, {\"n_neighbors\": 19, \"p\": 1, \"test_score\": 0.8384461152882206, \"metric\": \"Manhattan\"}, {\"n_neighbors\": 19, \"p\": 2, \"test_score\": 0.8343734335839599, \"metric\": \"Euclidean\"}, {\"n_neighbors\": 19, \"p\": 5, \"test_score\": 0.8296298177877124, \"metric\": \"Minkowski\"}, {\"n_neighbors\": 20, \"p\": 1, \"test_score\": 0.8387204497730815, \"metric\": \"Manhattan\"}, {\"n_neighbors\": 20, \"p\": 2, \"test_score\": 0.8339412720991669, \"metric\": \"Euclidean\"}, {\"n_neighbors\": 20, \"p\": 5, \"test_score\": 0.8288630359682992, \"metric\": \"Minkowski\"}]}}, {\"mode\": \"vega-lite\"});\n",
       "</script>"
      ],
      "text/plain": [
       "alt.Chart(...)"
      ]
     },
     "execution_count": 40,
     "metadata": {},
     "output_type": "execute_result"
    }
   ],
   "source": [
    "import altair as alt\n",
    "\n",
    "alt.Chart(results_KNN, \n",
    "          title='KNN Performance Comparison'\n",
    "         ).mark_line(point=True).encode(\n",
    "    alt.X('n_neighbors', title='Number of Neighbors'),\n",
    "    alt.Y('test_score', title='Mean AUC Score', scale=alt.Scale(zero=False)),\n",
    "    color='metric'\n",
    ")\n"
   ]
  },
  {
   "cell_type": "markdown",
   "metadata": {},
   "source": [
    "##  Decision Tree Classifier Model Hyperparameter Tuning\n"
   ]
  },
  {
   "cell_type": "markdown",
   "metadata": {},
   "source": [
    "Determining the best possible hyperparameter combinations for a Decision Tree classifier using the gridsearch method.We want to find the optimal combination that maximizes information gain.\n",
    "The Decision Tree hyperparameter values considered for the tuning process are :\n",
    "*  Maximum depth (max_depth)  - 1 to 10\n",
    "*  Minimum sample split (min_samples_split) - 2 to 8\n",
    "*  Criterion - {Entropy,Gini index}"
   ]
  },
  {
   "cell_type": "markdown",
   "metadata": {},
   "source": [
    "Fitting the Decision tree model that maximizes information gain on the relevant features and finding the mean cross-validation AUC score with  optimal parameters."
   ]
  },
  {
   "cell_type": "code",
   "execution_count": 41,
   "metadata": {},
   "outputs": [
    {
     "name": "stderr",
     "output_type": "stream",
     "text": [
      "[Parallel(n_jobs=1)]: Using backend SequentialBackend with 1 concurrent workers.\n"
     ]
    },
    {
     "name": "stdout",
     "output_type": "stream",
     "text": [
      "Fitting 15 folds for each of 140 candidates, totalling 2100 fits\n"
     ]
    },
    {
     "name": "stderr",
     "output_type": "stream",
     "text": [
      "[Parallel(n_jobs=1)]: Done 2100 out of 2100 | elapsed:    8.1s finished\n"
     ]
    },
    {
     "data": {
      "text/plain": [
       "GridSearchCV(cv=RepeatedStratifiedKFold(n_repeats=3, n_splits=5, random_state=99),\n",
       "             error_score=nan,\n",
       "             estimator=DecisionTreeClassifier(ccp_alpha=0.0, class_weight=None,\n",
       "                                              criterion='gini', max_depth=None,\n",
       "                                              max_features=None,\n",
       "                                              max_leaf_nodes=None,\n",
       "                                              min_impurity_decrease=0.0,\n",
       "                                              min_impurity_split=None,\n",
       "                                              min_samples_leaf=1,\n",
       "                                              min_samples_split=2,\n",
       "                                              min_weight_fraction_leaf=0.0,\n",
       "                                              presort='deprecated',\n",
       "                                              random_state=99,\n",
       "                                              splitter='best'),\n",
       "             iid='deprecated', n_jobs=None,\n",
       "             param_grid={'criterion': ['entropy', 'gini'],\n",
       "                         'max_depth': [1, 2, 3, 4, 5, 6, 7, 8, 9, 10],\n",
       "                         'min_samples_split': [2, 3, 4, 5, 6, 7, 8]},\n",
       "             pre_dispatch='2*n_jobs', refit=True, return_train_score=False,\n",
       "             scoring='roc_auc', verbose=1)"
      ]
     },
     "execution_count": 41,
     "metadata": {},
     "output_type": "execute_result"
    }
   ],
   "source": [
    "from sklearn.tree import DecisionTreeClassifier\n",
    "\n",
    "params_DT = {'criterion': ['entropy','gini'],\n",
    "             'max_depth': [1,2,3, 4, 5, 6, 7, 8,9,10],\n",
    "             'min_samples_split': [2,3,4,5,6,7,8]}\n",
    "            \n",
    "gs_DT = GridSearchCV(estimator=DecisionTreeClassifier(random_state=99), \n",
    "                     param_grid=params_DT, \n",
    "                     cv=cv_method,\n",
    "                     verbose=1, \n",
    "                     scoring='roc_auc')\n",
    "\n",
    "gs_DT.fit(diabetes_train_features, target_train)"
   ]
  },
  {
   "cell_type": "code",
   "execution_count": 42,
   "metadata": {},
   "outputs": [
    {
     "data": {
      "text/plain": [
       "{'criterion': 'entropy', 'max_depth': 3, 'min_samples_split': 2}"
      ]
     },
     "execution_count": 42,
     "metadata": {},
     "output_type": "execute_result"
    }
   ],
   "source": [
    "gs_DT.best_params_\n"
   ]
  },
  {
   "cell_type": "code",
   "execution_count": 43,
   "metadata": {},
   "outputs": [
    {
     "data": {
      "text/plain": [
       "0.8037136760820972"
      ]
     },
     "execution_count": 43,
     "metadata": {},
     "output_type": "execute_result"
    }
   ],
   "source": [
    "gs_DT.best_score_\n"
   ]
  },
  {
   "cell_type": "markdown",
   "metadata": {},
   "source": [
    "The best performing decision tree model using the entropy split criterion has a maximum depth of 3 and minimum split value of 2 samples with a mean AUC score of 0.803.\n",
    "\n"
   ]
  },
  {
   "cell_type": "code",
   "execution_count": 44,
   "metadata": {},
   "outputs": [],
   "source": [
    "results_DT = pd.DataFrame(gs_DT.cv_results_['params'])\n",
    "results_DT['test_score'] = gs_DT.cv_results_['mean_test_score']\n"
   ]
  },
  {
   "cell_type": "markdown",
   "metadata": {},
   "source": [
    "Visualising the DT grid search results for the five features."
   ]
  },
  {
   "cell_type": "code",
   "execution_count": 45,
   "metadata": {},
   "outputs": [
    {
     "data": {
      "text/html": [
       "\n",
       "<div id=\"altair-viz-ddface97a81e48f6b5f4ae3e8524145e\"></div>\n",
       "<script type=\"text/javascript\">\n",
       "  (function(spec, embedOpt){\n",
       "    let outputDiv = document.currentScript.previousElementSibling;\n",
       "    if (outputDiv.id !== \"altair-viz-ddface97a81e48f6b5f4ae3e8524145e\") {\n",
       "      outputDiv = document.getElementById(\"altair-viz-ddface97a81e48f6b5f4ae3e8524145e\");\n",
       "    }\n",
       "    const paths = {\n",
       "      \"vega\": \"https://cdn.jsdelivr.net/npm//vega@5?noext\",\n",
       "      \"vega-lib\": \"https://cdn.jsdelivr.net/npm//vega-lib?noext\",\n",
       "      \"vega-lite\": \"https://cdn.jsdelivr.net/npm//vega-lite@4.8.1?noext\",\n",
       "      \"vega-embed\": \"https://cdn.jsdelivr.net/npm//vega-embed@6?noext\",\n",
       "    };\n",
       "\n",
       "    function loadScript(lib) {\n",
       "      return new Promise(function(resolve, reject) {\n",
       "        var s = document.createElement('script');\n",
       "        s.src = paths[lib];\n",
       "        s.async = true;\n",
       "        s.onload = () => resolve(paths[lib]);\n",
       "        s.onerror = () => reject(`Error loading script: ${paths[lib]}`);\n",
       "        document.getElementsByTagName(\"head\")[0].appendChild(s);\n",
       "      });\n",
       "    }\n",
       "\n",
       "    function showError(err) {\n",
       "      outputDiv.innerHTML = `<div class=\"error\" style=\"color:red;\">${err}</div>`;\n",
       "      throw err;\n",
       "    }\n",
       "\n",
       "    function displayChart(vegaEmbed) {\n",
       "      vegaEmbed(outputDiv, spec, embedOpt)\n",
       "        .catch(err => showError(`Javascript Error: ${err.message}<br>This usually means there's a typo in your chart specification. See the javascript console for the full traceback.`));\n",
       "    }\n",
       "\n",
       "    if(typeof define === \"function\" && define.amd) {\n",
       "      requirejs.config({paths});\n",
       "      require([\"vega-embed\"], displayChart, err => showError(`Error loading script: ${err.message}`));\n",
       "    } else if (typeof vegaEmbed === \"function\") {\n",
       "      displayChart(vegaEmbed);\n",
       "    } else {\n",
       "      loadScript(\"vega\")\n",
       "        .then(() => loadScript(\"vega-lite\"))\n",
       "        .then(() => loadScript(\"vega-embed\"))\n",
       "        .catch(showError)\n",
       "        .then(() => displayChart(vegaEmbed));\n",
       "    }\n",
       "  })({\"config\": {\"view\": {\"continuousWidth\": 400, \"continuousHeight\": 300}}, \"data\": {\"name\": \"data-5ec2eb34805507eec77e92f46a5bacce\"}, \"mark\": {\"type\": \"line\", \"point\": true}, \"encoding\": {\"color\": {\"type\": \"nominal\", \"field\": \"criterion\"}, \"x\": {\"type\": \"quantitative\", \"field\": \"max_depth\", \"title\": \"Maximum Depth\"}, \"y\": {\"type\": \"quantitative\", \"field\": \"test_score\", \"scale\": {\"zero\": false}, \"title\": \"Mean AUC Score\"}}, \"title\": \"DT Performance Comparison\", \"$schema\": \"https://vega.github.io/schema/vega-lite/v4.8.1.json\", \"datasets\": {\"data-5ec2eb34805507eec77e92f46a5bacce\": [{\"criterion\": \"entropy\", \"max_depth\": 1, \"min_samples_split\": 2, \"test_score\": 0.7043371943371943}, {\"criterion\": \"entropy\", \"max_depth\": 1, \"min_samples_split\": 3, \"test_score\": 0.7043371943371943}, {\"criterion\": \"entropy\", \"max_depth\": 1, \"min_samples_split\": 4, \"test_score\": 0.7043371943371943}, {\"criterion\": \"entropy\", \"max_depth\": 1, \"min_samples_split\": 5, \"test_score\": 0.7043371943371943}, {\"criterion\": \"entropy\", \"max_depth\": 1, \"min_samples_split\": 6, \"test_score\": 0.7043371943371943}, {\"criterion\": \"entropy\", \"max_depth\": 1, \"min_samples_split\": 7, \"test_score\": 0.7043371943371943}, {\"criterion\": \"entropy\", \"max_depth\": 1, \"min_samples_split\": 8, \"test_score\": 0.7043371943371943}, {\"criterion\": \"entropy\", \"max_depth\": 2, \"min_samples_split\": 2, \"test_score\": 0.769407302038881}, {\"criterion\": \"entropy\", \"max_depth\": 2, \"min_samples_split\": 3, \"test_score\": 0.769407302038881}, {\"criterion\": \"entropy\", \"max_depth\": 2, \"min_samples_split\": 4, \"test_score\": 0.769407302038881}, {\"criterion\": \"entropy\", \"max_depth\": 2, \"min_samples_split\": 5, \"test_score\": 0.769407302038881}, {\"criterion\": \"entropy\", \"max_depth\": 2, \"min_samples_split\": 6, \"test_score\": 0.769407302038881}, {\"criterion\": \"entropy\", \"max_depth\": 2, \"min_samples_split\": 7, \"test_score\": 0.769407302038881}, {\"criterion\": \"entropy\", \"max_depth\": 2, \"min_samples_split\": 8, \"test_score\": 0.769407302038881}, {\"criterion\": \"entropy\", \"max_depth\": 3, \"min_samples_split\": 2, \"test_score\": 0.8037136760820972}, {\"criterion\": \"entropy\", \"max_depth\": 3, \"min_samples_split\": 3, \"test_score\": 0.8037136760820972}, {\"criterion\": \"entropy\", \"max_depth\": 3, \"min_samples_split\": 4, \"test_score\": 0.8037136760820972}, {\"criterion\": \"entropy\", \"max_depth\": 3, \"min_samples_split\": 5, \"test_score\": 0.8037136760820972}, {\"criterion\": \"entropy\", \"max_depth\": 3, \"min_samples_split\": 6, \"test_score\": 0.8037136760820972}, {\"criterion\": \"entropy\", \"max_depth\": 3, \"min_samples_split\": 7, \"test_score\": 0.8037136760820972}, {\"criterion\": \"entropy\", \"max_depth\": 3, \"min_samples_split\": 8, \"test_score\": 0.8037136760820972}, {\"criterion\": \"entropy\", \"max_depth\": 4, \"min_samples_split\": 2, \"test_score\": 0.8009351080403714}, {\"criterion\": \"entropy\", \"max_depth\": 4, \"min_samples_split\": 3, \"test_score\": 0.8009351080403714}, {\"criterion\": \"entropy\", \"max_depth\": 4, \"min_samples_split\": 4, \"test_score\": 0.8009351080403714}, {\"criterion\": \"entropy\", \"max_depth\": 4, \"min_samples_split\": 5, \"test_score\": 0.8009351080403714}, {\"criterion\": \"entropy\", \"max_depth\": 4, \"min_samples_split\": 6, \"test_score\": 0.8017845288897921}, {\"criterion\": \"entropy\", \"max_depth\": 4, \"min_samples_split\": 7, \"test_score\": 0.8017845288897921}, {\"criterion\": \"entropy\", \"max_depth\": 4, \"min_samples_split\": 8, \"test_score\": 0.8031880376617219}, {\"criterion\": \"entropy\", \"max_depth\": 5, \"min_samples_split\": 2, \"test_score\": 0.782857481541692}, {\"criterion\": \"entropy\", \"max_depth\": 5, \"min_samples_split\": 3, \"test_score\": 0.7834816771658877}, {\"criterion\": \"entropy\", \"max_depth\": 5, \"min_samples_split\": 4, \"test_score\": 0.7847043283885389}, {\"criterion\": \"entropy\", \"max_depth\": 5, \"min_samples_split\": 5, \"test_score\": 0.7833143669985776}, {\"criterion\": \"entropy\", \"max_depth\": 5, \"min_samples_split\": 6, \"test_score\": 0.7826634152949942}, {\"criterion\": \"entropy\", \"max_depth\": 5, \"min_samples_split\": 7, \"test_score\": 0.7846711373027161}, {\"criterion\": \"entropy\", \"max_depth\": 5, \"min_samples_split\": 8, \"test_score\": 0.7846711373027161}, {\"criterion\": \"entropy\", \"max_depth\": 6, \"min_samples_split\": 2, \"test_score\": 0.7588345864661653}, {\"criterion\": \"entropy\", \"max_depth\": 6, \"min_samples_split\": 3, \"test_score\": 0.7594611528822056}, {\"criterion\": \"entropy\", \"max_depth\": 6, \"min_samples_split\": 4, \"test_score\": 0.7641675133780397}, {\"criterion\": \"entropy\", \"max_depth\": 6, \"min_samples_split\": 5, \"test_score\": 0.7636655828761093}, {\"criterion\": \"entropy\", \"max_depth\": 6, \"min_samples_split\": 6, \"test_score\": 0.7679888911467859}, {\"criterion\": \"entropy\", \"max_depth\": 6, \"min_samples_split\": 7, \"test_score\": 0.768130122603807}, {\"criterion\": \"entropy\", \"max_depth\": 6, \"min_samples_split\": 8, \"test_score\": 0.768506062453431}, {\"criterion\": \"entropy\", \"max_depth\": 7, \"min_samples_split\": 2, \"test_score\": 0.741555916819075}, {\"criterion\": \"entropy\", \"max_depth\": 7, \"min_samples_split\": 3, \"test_score\": 0.7389707376549484}, {\"criterion\": \"entropy\", \"max_depth\": 7, \"min_samples_split\": 4, \"test_score\": 0.7460431484115696}, {\"criterion\": \"entropy\", \"max_depth\": 7, \"min_samples_split\": 5, \"test_score\": 0.7463391587075797}, {\"criterion\": \"entropy\", \"max_depth\": 7, \"min_samples_split\": 6, \"test_score\": 0.7472332859174965}, {\"criterion\": \"entropy\", \"max_depth\": 7, \"min_samples_split\": 7, \"test_score\": 0.7530959154643365}, {\"criterion\": \"entropy\", \"max_depth\": 7, \"min_samples_split\": 8, \"test_score\": 0.7525272641062114}, {\"criterion\": \"entropy\", \"max_depth\": 8, \"min_samples_split\": 2, \"test_score\": 0.7299536002167581}, {\"criterion\": \"entropy\", \"max_depth\": 8, \"min_samples_split\": 3, \"test_score\": 0.7307556052292895}, {\"criterion\": \"entropy\", \"max_depth\": 8, \"min_samples_split\": 4, \"test_score\": 0.7385920883289305}, {\"criterion\": \"entropy\", \"max_depth\": 8, \"min_samples_split\": 5, \"test_score\": 0.737964844543792}, {\"criterion\": \"entropy\", \"max_depth\": 8, \"min_samples_split\": 6, \"test_score\": 0.7391004538372961}, {\"criterion\": \"entropy\", \"max_depth\": 8, \"min_samples_split\": 7, \"test_score\": 0.7434806611122402}, {\"criterion\": \"entropy\", \"max_depth\": 8, \"min_samples_split\": 8, \"test_score\": 0.7472949265054528}, {\"criterion\": \"entropy\", \"max_depth\": 9, \"min_samples_split\": 2, \"test_score\": 0.7063442389758179}, {\"criterion\": \"entropy\", \"max_depth\": 9, \"min_samples_split\": 3, \"test_score\": 0.7076549481812638}, {\"criterion\": \"entropy\", \"max_depth\": 9, \"min_samples_split\": 4, \"test_score\": 0.7165139199349725}, {\"criterion\": \"entropy\", \"max_depth\": 9, \"min_samples_split\": 5, \"test_score\": 0.7211396735080945}, {\"criterion\": \"entropy\", \"max_depth\": 9, \"min_samples_split\": 6, \"test_score\": 0.7224368353315723}, {\"criterion\": \"entropy\", \"max_depth\": 9, \"min_samples_split\": 7, \"test_score\": 0.7276881392670868}, {\"criterion\": \"entropy\", \"max_depth\": 9, \"min_samples_split\": 8, \"test_score\": 0.7329208155523946}, {\"criterion\": \"entropy\", \"max_depth\": 10, \"min_samples_split\": 2, \"test_score\": 0.6912422949265056}, {\"criterion\": \"entropy\", \"max_depth\": 10, \"min_samples_split\": 3, \"test_score\": 0.6971215200162568}, {\"criterion\": \"entropy\", \"max_depth\": 10, \"min_samples_split\": 4, \"test_score\": 0.7063804782225834}, {\"criterion\": \"entropy\", \"max_depth\": 10, \"min_samples_split\": 5, \"test_score\": 0.710359682991262}, {\"criterion\": \"entropy\", \"max_depth\": 10, \"min_samples_split\": 6, \"test_score\": 0.7137404321614848}, {\"criterion\": \"entropy\", \"max_depth\": 10, \"min_samples_split\": 7, \"test_score\": 0.714916683600894}, {\"criterion\": \"entropy\", \"max_depth\": 10, \"min_samples_split\": 8, \"test_score\": 0.7143453227663753}, {\"criterion\": \"gini\", \"max_depth\": 1, \"min_samples_split\": 2, \"test_score\": 0.7007207207207207}, {\"criterion\": \"gini\", \"max_depth\": 1, \"min_samples_split\": 3, \"test_score\": 0.7007207207207207}, {\"criterion\": \"gini\", \"max_depth\": 1, \"min_samples_split\": 4, \"test_score\": 0.7007207207207207}, {\"criterion\": \"gini\", \"max_depth\": 1, \"min_samples_split\": 5, \"test_score\": 0.7007207207207207}, {\"criterion\": \"gini\", \"max_depth\": 1, \"min_samples_split\": 6, \"test_score\": 0.7007207207207207}, {\"criterion\": \"gini\", \"max_depth\": 1, \"min_samples_split\": 7, \"test_score\": 0.7007207207207207}, {\"criterion\": \"gini\", \"max_depth\": 1, \"min_samples_split\": 8, \"test_score\": 0.7007207207207207}, {\"criterion\": \"gini\", \"max_depth\": 2, \"min_samples_split\": 2, \"test_score\": 0.7563842037526247}, {\"criterion\": \"gini\", \"max_depth\": 2, \"min_samples_split\": 3, \"test_score\": 0.7563842037526247}, {\"criterion\": \"gini\", \"max_depth\": 2, \"min_samples_split\": 4, \"test_score\": 0.7563842037526247}, {\"criterion\": \"gini\", \"max_depth\": 2, \"min_samples_split\": 5, \"test_score\": 0.7563842037526247}, {\"criterion\": \"gini\", \"max_depth\": 2, \"min_samples_split\": 6, \"test_score\": 0.7563842037526247}, {\"criterion\": \"gini\", \"max_depth\": 2, \"min_samples_split\": 7, \"test_score\": 0.7563842037526247}, {\"criterion\": \"gini\", \"max_depth\": 2, \"min_samples_split\": 8, \"test_score\": 0.7563842037526247}, {\"criterion\": \"gini\", \"max_depth\": 3, \"min_samples_split\": 2, \"test_score\": 0.7853190408453566}, {\"criterion\": \"gini\", \"max_depth\": 3, \"min_samples_split\": 3, \"test_score\": 0.7853190408453566}, {\"criterion\": \"gini\", \"max_depth\": 3, \"min_samples_split\": 4, \"test_score\": 0.7853190408453566}, {\"criterion\": \"gini\", \"max_depth\": 3, \"min_samples_split\": 5, \"test_score\": 0.7853190408453566}, {\"criterion\": \"gini\", \"max_depth\": 3, \"min_samples_split\": 6, \"test_score\": 0.7853190408453566}, {\"criterion\": \"gini\", \"max_depth\": 3, \"min_samples_split\": 7, \"test_score\": 0.7853190408453566}, {\"criterion\": \"gini\", \"max_depth\": 3, \"min_samples_split\": 8, \"test_score\": 0.7853190408453566}, {\"criterion\": \"gini\", \"max_depth\": 4, \"min_samples_split\": 2, \"test_score\": 0.7840676014360227}, {\"criterion\": \"gini\", \"max_depth\": 4, \"min_samples_split\": 3, \"test_score\": 0.7840676014360227}, {\"criterion\": \"gini\", \"max_depth\": 4, \"min_samples_split\": 4, \"test_score\": 0.7840676014360227}, {\"criterion\": \"gini\", \"max_depth\": 4, \"min_samples_split\": 5, \"test_score\": 0.7840676014360227}, {\"criterion\": \"gini\", \"max_depth\": 4, \"min_samples_split\": 6, \"test_score\": 0.7840676014360227}, {\"criterion\": \"gini\", \"max_depth\": 4, \"min_samples_split\": 7, \"test_score\": 0.7856841427894061}, {\"criterion\": \"gini\", \"max_depth\": 4, \"min_samples_split\": 8, \"test_score\": 0.7856841427894061}, {\"criterion\": \"gini\", \"max_depth\": 5, \"min_samples_split\": 2, \"test_score\": 0.7691079048973787}, {\"criterion\": \"gini\", \"max_depth\": 5, \"min_samples_split\": 3, \"test_score\": 0.769532615322089}, {\"criterion\": \"gini\", \"max_depth\": 5, \"min_samples_split\": 4, \"test_score\": 0.7717465962202805}, {\"criterion\": \"gini\", \"max_depth\": 5, \"min_samples_split\": 5, \"test_score\": 0.7721259229153966}, {\"criterion\": \"gini\", \"max_depth\": 5, \"min_samples_split\": 6, \"test_score\": 0.7736428910113121}, {\"criterion\": \"gini\", \"max_depth\": 5, \"min_samples_split\": 7, \"test_score\": 0.7745854501117659}, {\"criterion\": \"gini\", \"max_depth\": 5, \"min_samples_split\": 8, \"test_score\": 0.774649800176116}, {\"criterion\": \"gini\", \"max_depth\": 6, \"min_samples_split\": 2, \"test_score\": 0.7508893856262276}, {\"criterion\": \"gini\", \"max_depth\": 6, \"min_samples_split\": 3, \"test_score\": 0.7549176996545416}, {\"criterion\": \"gini\", \"max_depth\": 6, \"min_samples_split\": 4, \"test_score\": 0.7591099370046738}, {\"criterion\": \"gini\", \"max_depth\": 6, \"min_samples_split\": 5, \"test_score\": 0.7616372011108853}, {\"criterion\": \"gini\", \"max_depth\": 6, \"min_samples_split\": 6, \"test_score\": 0.7642186547449706}, {\"criterion\": \"gini\", \"max_depth\": 6, \"min_samples_split\": 7, \"test_score\": 0.7608700806069226}, {\"criterion\": \"gini\", \"max_depth\": 6, \"min_samples_split\": 8, \"test_score\": 0.7622007722007721}, {\"criterion\": \"gini\", \"max_depth\": 7, \"min_samples_split\": 2, \"test_score\": 0.7285135135135136}, {\"criterion\": \"gini\", \"max_depth\": 7, \"min_samples_split\": 3, \"test_score\": 0.7251933888775994}, {\"criterion\": \"gini\", \"max_depth\": 7, \"min_samples_split\": 4, \"test_score\": 0.7247185531396059}, {\"criterion\": \"gini\", \"max_depth\": 7, \"min_samples_split\": 5, \"test_score\": 0.7283096254148888}, {\"criterion\": \"gini\", \"max_depth\": 7, \"min_samples_split\": 6, \"test_score\": 0.7275899207478156}, {\"criterion\": \"gini\", \"max_depth\": 7, \"min_samples_split\": 7, \"test_score\": 0.7354992210255367}, {\"criterion\": \"gini\", \"max_depth\": 7, \"min_samples_split\": 8, \"test_score\": 0.7367266138318771}, {\"criterion\": \"gini\", \"max_depth\": 8, \"min_samples_split\": 2, \"test_score\": 0.7028131138657454}, {\"criterion\": \"gini\", \"max_depth\": 8, \"min_samples_split\": 3, \"test_score\": 0.711731694100115}, {\"criterion\": \"gini\", \"max_depth\": 8, \"min_samples_split\": 4, \"test_score\": 0.7142156065840275}, {\"criterion\": \"gini\", \"max_depth\": 8, \"min_samples_split\": 5, \"test_score\": 0.7154914312809049}, {\"criterion\": \"gini\", \"max_depth\": 8, \"min_samples_split\": 6, \"test_score\": 0.7223216825848404}, {\"criterion\": \"gini\", \"max_depth\": 8, \"min_samples_split\": 7, \"test_score\": 0.731654474022895}, {\"criterion\": \"gini\", \"max_depth\": 8, \"min_samples_split\": 8, \"test_score\": 0.7251571496308337}, {\"criterion\": \"gini\", \"max_depth\": 9, \"min_samples_split\": 2, \"test_score\": 0.6934315518526045}, {\"criterion\": \"gini\", \"max_depth\": 9, \"min_samples_split\": 3, \"test_score\": 0.6941908826119353}, {\"criterion\": \"gini\", \"max_depth\": 9, \"min_samples_split\": 4, \"test_score\": 0.7055882950619792}, {\"criterion\": \"gini\", \"max_depth\": 9, \"min_samples_split\": 5, \"test_score\": 0.7018979882137777}, {\"criterion\": \"gini\", \"max_depth\": 9, \"min_samples_split\": 6, \"test_score\": 0.7103877938088466}, {\"criterion\": \"gini\", \"max_depth\": 9, \"min_samples_split\": 7, \"test_score\": 0.7152069362595679}, {\"criterion\": \"gini\", \"max_depth\": 9, \"min_samples_split\": 8, \"test_score\": 0.7121211813317078}, {\"criterion\": \"gini\", \"max_depth\": 10, \"min_samples_split\": 2, \"test_score\": 0.6731639910587278}, {\"criterion\": \"gini\", \"max_depth\": 10, \"min_samples_split\": 3, \"test_score\": 0.6774324324324326}, {\"criterion\": \"gini\", \"max_depth\": 10, \"min_samples_split\": 4, \"test_score\": 0.6882327440222177}, {\"criterion\": \"gini\", \"max_depth\": 10, \"min_samples_split\": 5, \"test_score\": 0.6925885660096186}, {\"criterion\": \"gini\", \"max_depth\": 10, \"min_samples_split\": 6, \"test_score\": 0.6991099370046739}, {\"criterion\": \"gini\", \"max_depth\": 10, \"min_samples_split\": 7, \"test_score\": 0.7069183092867303}, {\"criterion\": \"gini\", \"max_depth\": 10, \"min_samples_split\": 8, \"test_score\": 0.7071367608209713}]}}, {\"mode\": \"vega-lite\"});\n",
       "</script>"
      ],
      "text/plain": [
       "alt.Chart(...)"
      ]
     },
     "execution_count": 45,
     "metadata": {},
     "output_type": "execute_result"
    }
   ],
   "source": [
    "alt.Chart(results_DT, \n",
    "          title='DT Performance Comparison'\n",
    "         ).mark_line(point=True).encode(\n",
    "    alt.X('max_depth', title='Maximum Depth'),\n",
    "    alt.Y('test_score', title='Mean AUC Score', scale=alt.Scale(zero=False)),\n",
    "    color='criterion'\n",
    ")"
   ]
  },
  {
   "cell_type": "markdown",
   "metadata": {},
   "source": [
    "###  Random Forest Classifier Model Hyperparameter Tuning\n"
   ]
  },
  {
   "cell_type": "markdown",
   "metadata": {},
   "source": [
    "Fitting a Random Forest Classifier model by determining the optimal combinations of the number of decision trees in the forest,minimum number of data points placed in a node before the node is split and the maximum number of levels considered by each tree.\n",
    "The Random Forest model hyperparameter values considered for the tuning process are :\n",
    "* No of decision trees (n_estimators) : 100,150,300\n",
    "* Maximum depth (max_depth) - 2,5,7,10,12\n"
   ]
  },
  {
   "cell_type": "markdown",
   "metadata": {},
   "source": [
    "Fitting the Random Forest model for the relevant features and finding the mean cross-validation AUC score with optimal parameters."
   ]
  },
  {
   "cell_type": "code",
   "execution_count": 46,
   "metadata": {},
   "outputs": [
    {
     "name": "stdout",
     "output_type": "stream",
     "text": [
      "Fitting 15 folds for each of 15 candidates, totalling 225 fits\n"
     ]
    },
    {
     "name": "stderr",
     "output_type": "stream",
     "text": [
      "[Parallel(n_jobs=-2)]: Using backend LokyBackend with 3 concurrent workers.\n",
      "[Parallel(n_jobs=-2)]: Done  44 tasks      | elapsed:   10.6s\n",
      "[Parallel(n_jobs=-2)]: Done 194 tasks      | elapsed:   52.3s\n",
      "[Parallel(n_jobs=-2)]: Done 225 out of 225 | elapsed:   59.2s finished\n"
     ]
    }
   ],
   "source": [
    "from sklearn.ensemble import RandomForestClassifier\n",
    "\n",
    "params_RF = {'n_estimators': [100,150,300],\n",
    "             'max_depth': [2,5,7,10,12]\n",
    "            }\n",
    "\n",
    "\n",
    "gs_RF = GridSearchCV(estimator=RandomForestClassifier(random_state=99), \n",
    "                     param_grid=params_RF, \n",
    "                     cv=cv_method,\n",
    "                     verbose=1,\n",
    "                     n_jobs=-2,\n",
    "                     scoring='roc_auc')\n",
    "\n",
    "gs_RF.fit(diabetes_train_features, target_train);"
   ]
  },
  {
   "cell_type": "code",
   "execution_count": 47,
   "metadata": {},
   "outputs": [
    {
     "data": {
      "text/plain": [
       "{'max_depth': 5, 'n_estimators': 300}"
      ]
     },
     "execution_count": 47,
     "metadata": {},
     "output_type": "execute_result"
    }
   ],
   "source": [
    "gs_RF.best_params_\n"
   ]
  },
  {
   "cell_type": "code",
   "execution_count": 48,
   "metadata": {},
   "outputs": [
    {
     "data": {
      "text/plain": [
       "0.8447449705344442"
      ]
     },
     "execution_count": 48,
     "metadata": {},
     "output_type": "execute_result"
    }
   ],
   "source": [
    "gs_RF.best_score_\n"
   ]
  },
  {
   "cell_type": "markdown",
   "metadata": {},
   "source": [
    "The best performing Random Forest model has a maximum depth of 5 and 300 number of decision trees with a mean AUC score of 0.844."
   ]
  },
  {
   "cell_type": "code",
   "execution_count": 49,
   "metadata": {},
   "outputs": [],
   "source": [
    "results_RF = pd.DataFrame(gs_RF.cv_results_['params'])\n",
    "results_RF['test_score'] = gs_RF.cv_results_['mean_test_score']\n",
    "\n"
   ]
  },
  {
   "cell_type": "markdown",
   "metadata": {},
   "source": [
    "Visualising the Random forest grid search results for the five features.We observe that the Random forest model with a maximum depth of 5 and n_estimators value of 300 performs better than the other hyperparameter combinations."
   ]
  },
  {
   "cell_type": "code",
   "execution_count": 50,
   "metadata": {},
   "outputs": [
    {
     "data": {
      "text/html": [
       "\n",
       "<div id=\"altair-viz-1da67c4b372f4668a417372944c3f2f5\"></div>\n",
       "<script type=\"text/javascript\">\n",
       "  (function(spec, embedOpt){\n",
       "    let outputDiv = document.currentScript.previousElementSibling;\n",
       "    if (outputDiv.id !== \"altair-viz-1da67c4b372f4668a417372944c3f2f5\") {\n",
       "      outputDiv = document.getElementById(\"altair-viz-1da67c4b372f4668a417372944c3f2f5\");\n",
       "    }\n",
       "    const paths = {\n",
       "      \"vega\": \"https://cdn.jsdelivr.net/npm//vega@5?noext\",\n",
       "      \"vega-lib\": \"https://cdn.jsdelivr.net/npm//vega-lib?noext\",\n",
       "      \"vega-lite\": \"https://cdn.jsdelivr.net/npm//vega-lite@4.8.1?noext\",\n",
       "      \"vega-embed\": \"https://cdn.jsdelivr.net/npm//vega-embed@6?noext\",\n",
       "    };\n",
       "\n",
       "    function loadScript(lib) {\n",
       "      return new Promise(function(resolve, reject) {\n",
       "        var s = document.createElement('script');\n",
       "        s.src = paths[lib];\n",
       "        s.async = true;\n",
       "        s.onload = () => resolve(paths[lib]);\n",
       "        s.onerror = () => reject(`Error loading script: ${paths[lib]}`);\n",
       "        document.getElementsByTagName(\"head\")[0].appendChild(s);\n",
       "      });\n",
       "    }\n",
       "\n",
       "    function showError(err) {\n",
       "      outputDiv.innerHTML = `<div class=\"error\" style=\"color:red;\">${err}</div>`;\n",
       "      throw err;\n",
       "    }\n",
       "\n",
       "    function displayChart(vegaEmbed) {\n",
       "      vegaEmbed(outputDiv, spec, embedOpt)\n",
       "        .catch(err => showError(`Javascript Error: ${err.message}<br>This usually means there's a typo in your chart specification. See the javascript console for the full traceback.`));\n",
       "    }\n",
       "\n",
       "    if(typeof define === \"function\" && define.amd) {\n",
       "      requirejs.config({paths});\n",
       "      require([\"vega-embed\"], displayChart, err => showError(`Error loading script: ${err.message}`));\n",
       "    } else if (typeof vegaEmbed === \"function\") {\n",
       "      displayChart(vegaEmbed);\n",
       "    } else {\n",
       "      loadScript(\"vega\")\n",
       "        .then(() => loadScript(\"vega-lite\"))\n",
       "        .then(() => loadScript(\"vega-embed\"))\n",
       "        .catch(showError)\n",
       "        .then(() => displayChart(vegaEmbed));\n",
       "    }\n",
       "  })({\"config\": {\"view\": {\"continuousWidth\": 400, \"continuousHeight\": 300}}, \"data\": {\"name\": \"data-a2abd8b68888085c28b6f9c4f5cf7e59\"}, \"mark\": {\"type\": \"line\", \"point\": true}, \"encoding\": {\"color\": {\"type\": \"nominal\", \"field\": \"n_estimators\"}, \"x\": {\"type\": \"quantitative\", \"field\": \"max_depth\", \"title\": \"Maximum Depth\"}, \"y\": {\"type\": \"quantitative\", \"field\": \"test_score\", \"scale\": {\"zero\": false}, \"title\": \"Mean AUC Score\"}}, \"title\": \"RF Performance Comparison\", \"$schema\": \"https://vega.github.io/schema/vega-lite/v4.8.1.json\", \"datasets\": {\"data-a2abd8b68888085c28b6f9c4f5cf7e59\": [{\"max_depth\": 2, \"n_estimators\": 100, \"test_score\": 0.8356523064417802}, {\"max_depth\": 2, \"n_estimators\": 150, \"test_score\": 0.8352844950213372}, {\"max_depth\": 2, \"n_estimators\": 300, \"test_score\": 0.8357955700060964}, {\"max_depth\": 5, \"n_estimators\": 100, \"test_score\": 0.8445214387319651}, {\"max_depth\": 5, \"n_estimators\": 150, \"test_score\": 0.8447436157962473}, {\"max_depth\": 5, \"n_estimators\": 300, \"test_score\": 0.8447449705344442}, {\"max_depth\": 7, \"n_estimators\": 100, \"test_score\": 0.837430061640588}, {\"max_depth\": 7, \"n_estimators\": 150, \"test_score\": 0.8373501320869743}, {\"max_depth\": 7, \"n_estimators\": 300, \"test_score\": 0.8388843730948994}, {\"max_depth\": 10, \"n_estimators\": 100, \"test_score\": 0.8263740432161485}, {\"max_depth\": 10, \"n_estimators\": 150, \"test_score\": 0.8284948858633069}, {\"max_depth\": 10, \"n_estimators\": 300, \"test_score\": 0.8301822122874754}, {\"max_depth\": 12, \"n_estimators\": 100, \"test_score\": 0.8270398970398972}, {\"max_depth\": 12, \"n_estimators\": 150, \"test_score\": 0.8279516358463728}, {\"max_depth\": 12, \"n_estimators\": 300, \"test_score\": 0.8294902797534377}]}}, {\"mode\": \"vega-lite\"});\n",
       "</script>"
      ],
      "text/plain": [
       "alt.Chart(...)"
      ]
     },
     "execution_count": 50,
     "metadata": {},
     "output_type": "execute_result"
    }
   ],
   "source": [
    "alt.Chart(results_RF, \n",
    "          title='RF Performance Comparison'\n",
    "         ).mark_line(point=True).encode(\n",
    "    alt.X('max_depth', title='Maximum Depth'),\n",
    "    alt.Y('test_score', title='Mean AUC Score', scale=alt.Scale(zero=False)),\n",
    "    color='n_estimators:N' # N is for nominal\n",
    ")\n"
   ]
  },
  {
   "cell_type": "markdown",
   "metadata": {},
   "source": [
    "###  Gaussian Naive Bayes Classifier Model Hyperparameter Tuning\n"
   ]
  },
  {
   "cell_type": "markdown",
   "metadata": {},
   "source": [
    "Fitting a Gaussian Naive Bayes model by optimizing the hyperparameter 'var_smoothing' i.e a variant of Laplace smoothing.Power transformation is applied on the relevant features so as to follow a Gaussian distribution.\n",
    "The Gaussian Naive Bayes model hyperparameter values considered for the tuning process :\n",
    "* var_smoothing : 10^0 to 10^-9 for 100 different values"
   ]
  },
  {
   "cell_type": "code",
   "execution_count": 51,
   "metadata": {},
   "outputs": [
    {
     "name": "stdout",
     "output_type": "stream",
     "text": [
      "Fitting 15 folds for each of 100 candidates, totalling 1500 fits\n"
     ]
    },
    {
     "name": "stderr",
     "output_type": "stream",
     "text": [
      "[Parallel(n_jobs=1)]: Using backend SequentialBackend with 1 concurrent workers.\n",
      "[Parallel(n_jobs=1)]: Done 1500 out of 1500 | elapsed:    4.7s finished\n"
     ]
    }
   ],
   "source": [
    "from sklearn.naive_bayes import GaussianNB\n",
    "from sklearn.preprocessing import PowerTransformer\n",
    "\n",
    "params_NB = {'var_smoothing': np.logspace(0,-9, num=100)}\n",
    "\n",
    "gs_NB = GridSearchCV(estimator=GaussianNB(), \n",
    "                     param_grid=params_NB, \n",
    "                     cv=cv_method,\n",
    "                     verbose=1, \n",
    "                     scoring='roc_auc')\n",
    "\n",
    "diabetes_train_features_transformed = PowerTransformer().fit_transform(diabetes_train_features)\n",
    "\n",
    "gs_NB.fit(diabetes_train_features_transformed, target_train);"
   ]
  },
  {
   "cell_type": "code",
   "execution_count": 52,
   "metadata": {},
   "outputs": [
    {
     "data": {
      "text/plain": [
       "{'var_smoothing': 0.533669923120631}"
      ]
     },
     "execution_count": 52,
     "metadata": {},
     "output_type": "execute_result"
    }
   ],
   "source": [
    "gs_NB.best_params_\n"
   ]
  },
  {
   "cell_type": "code",
   "execution_count": 53,
   "metadata": {},
   "outputs": [
    {
     "data": {
      "text/plain": [
       "0.8483770236401814"
      ]
     },
     "execution_count": 53,
     "metadata": {},
     "output_type": "execute_result"
    }
   ],
   "source": [
    "gs_NB.best_score_\n"
   ]
  },
  {
   "cell_type": "markdown",
   "metadata": {},
   "source": [
    "The optimal NB model with a variance smoothing value of 0.533 has an AUC score of 0.8483.\n",
    "\n"
   ]
  },
  {
   "cell_type": "code",
   "execution_count": 54,
   "metadata": {},
   "outputs": [],
   "source": [
    "results_NB = pd.DataFrame(gs_NB.cv_results_['params'])\n",
    "results_NB['test_score'] = gs_NB.cv_results_['mean_test_score']\n"
   ]
  },
  {
   "cell_type": "markdown",
   "metadata": {},
   "source": [
    "Visualising the Naive bayes grid search results for the five features.We observe that the Naive Bayes model with a var smoothing of 0.533 performs better than the other hyperparameter combinations."
   ]
  },
  {
   "cell_type": "code",
   "execution_count": 55,
   "metadata": {},
   "outputs": [
    {
     "data": {
      "text/html": [
       "\n",
       "<div id=\"altair-viz-2c0f1842443b49a38ef1ed0c23b1294c\"></div>\n",
       "<script type=\"text/javascript\">\n",
       "  (function(spec, embedOpt){\n",
       "    let outputDiv = document.currentScript.previousElementSibling;\n",
       "    if (outputDiv.id !== \"altair-viz-2c0f1842443b49a38ef1ed0c23b1294c\") {\n",
       "      outputDiv = document.getElementById(\"altair-viz-2c0f1842443b49a38ef1ed0c23b1294c\");\n",
       "    }\n",
       "    const paths = {\n",
       "      \"vega\": \"https://cdn.jsdelivr.net/npm//vega@5?noext\",\n",
       "      \"vega-lib\": \"https://cdn.jsdelivr.net/npm//vega-lib?noext\",\n",
       "      \"vega-lite\": \"https://cdn.jsdelivr.net/npm//vega-lite@4.8.1?noext\",\n",
       "      \"vega-embed\": \"https://cdn.jsdelivr.net/npm//vega-embed@6?noext\",\n",
       "    };\n",
       "\n",
       "    function loadScript(lib) {\n",
       "      return new Promise(function(resolve, reject) {\n",
       "        var s = document.createElement('script');\n",
       "        s.src = paths[lib];\n",
       "        s.async = true;\n",
       "        s.onload = () => resolve(paths[lib]);\n",
       "        s.onerror = () => reject(`Error loading script: ${paths[lib]}`);\n",
       "        document.getElementsByTagName(\"head\")[0].appendChild(s);\n",
       "      });\n",
       "    }\n",
       "\n",
       "    function showError(err) {\n",
       "      outputDiv.innerHTML = `<div class=\"error\" style=\"color:red;\">${err}</div>`;\n",
       "      throw err;\n",
       "    }\n",
       "\n",
       "    function displayChart(vegaEmbed) {\n",
       "      vegaEmbed(outputDiv, spec, embedOpt)\n",
       "        .catch(err => showError(`Javascript Error: ${err.message}<br>This usually means there's a typo in your chart specification. See the javascript console for the full traceback.`));\n",
       "    }\n",
       "\n",
       "    if(typeof define === \"function\" && define.amd) {\n",
       "      requirejs.config({paths});\n",
       "      require([\"vega-embed\"], displayChart, err => showError(`Error loading script: ${err.message}`));\n",
       "    } else if (typeof vegaEmbed === \"function\") {\n",
       "      displayChart(vegaEmbed);\n",
       "    } else {\n",
       "      loadScript(\"vega\")\n",
       "        .then(() => loadScript(\"vega-lite\"))\n",
       "        .then(() => loadScript(\"vega-embed\"))\n",
       "        .catch(showError)\n",
       "        .then(() => displayChart(vegaEmbed));\n",
       "    }\n",
       "  })({\"config\": {\"view\": {\"continuousWidth\": 400, \"continuousHeight\": 300}}, \"data\": {\"name\": \"data-899d623859188729174149ab3b90057a\"}, \"mark\": {\"type\": \"line\", \"point\": true}, \"encoding\": {\"x\": {\"type\": \"quantitative\", \"field\": \"var_smoothing\", \"title\": \"Var. Smoothing\"}, \"y\": {\"type\": \"quantitative\", \"field\": \"test_score\", \"scale\": {\"zero\": false}, \"title\": \"Mean AUC Score\"}}, \"selection\": {\"selector001\": {\"type\": \"interval\", \"bind\": \"scales\", \"encodings\": [\"x\", \"y\"]}}, \"title\": \"NB Performance Comparison\", \"$schema\": \"https://vega.github.io/schema/vega-lite/v4.8.1.json\", \"datasets\": {\"data-899d623859188729174149ab3b90057a\": [{\"var_smoothing\": 1.0, \"test_score\": 0.8476170155117523}, {\"var_smoothing\": 0.8111308307896871, \"test_score\": 0.8478473210052156}, {\"var_smoothing\": 0.657933224657568, \"test_score\": 0.8481751676488519}, {\"var_smoothing\": 0.533669923120631, \"test_score\": 0.8483770236401814}, {\"var_smoothing\": 0.43287612810830584, \"test_score\": 0.8483749915328862}, {\"var_smoothing\": 0.3511191734215131, \"test_score\": 0.8480701754385964}, {\"var_smoothing\": 0.2848035868435802, \"test_score\": 0.848041725936463}, {\"var_smoothing\": 0.23101297000831597, \"test_score\": 0.8480417259364628}, {\"var_smoothing\": 0.1873817422860384, \"test_score\": 0.8478608683871843}, {\"var_smoothing\": 0.15199110829529336, \"test_score\": 0.8476576576576578}, {\"var_smoothing\": 0.12328467394420659, \"test_score\": 0.8475824696877329}, {\"var_smoothing\": 0.1, \"test_score\": 0.8476583350267561}, {\"var_smoothing\": 0.08111308307896872, \"test_score\": 0.8476827203142995}, {\"var_smoothing\": 0.0657933224657568, \"test_score\": 0.8474490279753437}, {\"var_smoothing\": 0.0533669923120631, \"test_score\": 0.8475750186276502}, {\"var_smoothing\": 0.04328761281083057, \"test_score\": 0.8474469958680486}, {\"var_smoothing\": 0.03511191734215131, \"test_score\": 0.8474449637607534}, {\"var_smoothing\": 0.02848035868435802, \"test_score\": 0.8475215064688749}, {\"var_smoothing\": 0.02310129700083159, \"test_score\": 0.8475221838379734}, {\"var_smoothing\": 0.01873817422860384, \"test_score\": 0.8476481744902797}, {\"var_smoothing\": 0.01519911082952933, \"test_score\": 0.8474957664431348}, {\"var_smoothing\": 0.012328467394420659, \"test_score\": 0.8475208290997764}, {\"var_smoothing\": 0.01, \"test_score\": 0.8474950890740364}, {\"var_smoothing\": 0.008111308307896872, \"test_score\": 0.8474436090225564}, {\"var_smoothing\": 0.006579332246575682, \"test_score\": 0.8472898462372147}, {\"var_smoothing\": 0.005336699231206307, \"test_score\": 0.8472898462372147}, {\"var_smoothing\": 0.004328761281083057, \"test_score\": 0.8472383661857347}, {\"var_smoothing\": 0.003511191734215131, \"test_score\": 0.8472383661857347}, {\"var_smoothing\": 0.002848035868435802, \"test_score\": 0.8472383661857347}, {\"var_smoothing\": 0.0023101297000831605, \"test_score\": 0.8472383661857347}, {\"var_smoothing\": 0.001873817422860383, \"test_score\": 0.8472126261599946}, {\"var_smoothing\": 0.0015199110829529332, \"test_score\": 0.8472126261599946}, {\"var_smoothing\": 0.0012328467394420659, \"test_score\": 0.8472126261599946}, {\"var_smoothing\": 0.001, \"test_score\": 0.8472119487908962}, {\"var_smoothing\": 0.0008111308307896872, \"test_score\": 0.8472119487908962}, {\"var_smoothing\": 0.0006579332246575676, \"test_score\": 0.8472119487908962}, {\"var_smoothing\": 0.0005336699231206307, \"test_score\": 0.8472119487908962}, {\"var_smoothing\": 0.0004328761281083057, \"test_score\": 0.8472376888166362}, {\"var_smoothing\": 0.0003511191734215131, \"test_score\": 0.8472376888166362}, {\"var_smoothing\": 0.0002848035868435802, \"test_score\": 0.8472376888166362}, {\"var_smoothing\": 0.0002310129700083158, \"test_score\": 0.8472376888166362}, {\"var_smoothing\": 0.0001873817422860383, \"test_score\": 0.8471862087651563}, {\"var_smoothing\": 0.0001519911082952933, \"test_score\": 0.8471862087651563}, {\"var_smoothing\": 0.0001232846739442066, \"test_score\": 0.8471862087651563}, {\"var_smoothing\": 0.0001, \"test_score\": 0.8471862087651563}, {\"var_smoothing\": 8.111308307896872e-05, \"test_score\": 0.8471862087651563}, {\"var_smoothing\": 6.579332246575683e-05, \"test_score\": 0.8471862087651563}, {\"var_smoothing\": 5.3366992312063123e-05, \"test_score\": 0.8471862087651563}, {\"var_smoothing\": 4.328761281083062e-05, \"test_score\": 0.8471862087651563}, {\"var_smoothing\": 3.511191734215127e-05, \"test_score\": 0.8471862087651563}, {\"var_smoothing\": 2.848035868435799e-05, \"test_score\": 0.8471862087651563}, {\"var_smoothing\": 2.310129700083158e-05, \"test_score\": 0.8471862087651563}, {\"var_smoothing\": 1.873817422860383e-05, \"test_score\": 0.8471862087651563}, {\"var_smoothing\": 1.5199110829529332e-05, \"test_score\": 0.8471862087651563}, {\"var_smoothing\": 1.2328467394420658e-05, \"test_score\": 0.8471862087651563}, {\"var_smoothing\": 1e-05, \"test_score\": 0.8471862087651563}, {\"var_smoothing\": 8.111308307896873e-06, \"test_score\": 0.8471862087651563}, {\"var_smoothing\": 6.579332246575683e-06, \"test_score\": 0.8471862087651563}, {\"var_smoothing\": 5.336699231206313e-06, \"test_score\": 0.8471862087651563}, {\"var_smoothing\": 4.328761281083053e-06, \"test_score\": 0.8471862087651563}, {\"var_smoothing\": 3.5111917342151275e-06, \"test_score\": 0.8471862087651563}, {\"var_smoothing\": 2.848035868435799e-06, \"test_score\": 0.8471862087651563}, {\"var_smoothing\": 2.310129700083158e-06, \"test_score\": 0.8471862087651563}, {\"var_smoothing\": 1.873817422860383e-06, \"test_score\": 0.8471862087651563}, {\"var_smoothing\": 1.519911082952933e-06, \"test_score\": 0.8471862087651563}, {\"var_smoothing\": 1.232846739442066e-06, \"test_score\": 0.8471862087651563}, {\"var_smoothing\": 1e-06, \"test_score\": 0.8471862087651563}, {\"var_smoothing\": 8.111308307896872e-07, \"test_score\": 0.8471862087651563}, {\"var_smoothing\": 6.579332246575682e-07, \"test_score\": 0.8471862087651563}, {\"var_smoothing\": 5.336699231206313e-07, \"test_score\": 0.8471862087651563}, {\"var_smoothing\": 4.3287612810830526e-07, \"test_score\": 0.8471862087651563}, {\"var_smoothing\": 3.5111917342151277e-07, \"test_score\": 0.8471862087651563}, {\"var_smoothing\": 2.848035868435799e-07, \"test_score\": 0.8471862087651563}, {\"var_smoothing\": 2.310129700083158e-07, \"test_score\": 0.8471862087651563}, {\"var_smoothing\": 1.873817422860383e-07, \"test_score\": 0.8471862087651563}, {\"var_smoothing\": 1.519911082952933e-07, \"test_score\": 0.8471862087651563}, {\"var_smoothing\": 1.232846739442066e-07, \"test_score\": 0.8471862087651563}, {\"var_smoothing\": 1e-07, \"test_score\": 0.8471862087651563}, {\"var_smoothing\": 8.111308307896873e-08, \"test_score\": 0.8471862087651563}, {\"var_smoothing\": 6.579332246575682e-08, \"test_score\": 0.8471862087651563}, {\"var_smoothing\": 5.336699231206302e-08, \"test_score\": 0.8471862087651563}, {\"var_smoothing\": 4.3287612810830526e-08, \"test_score\": 0.8471862087651563}, {\"var_smoothing\": 3.5111917342151277e-08, \"test_score\": 0.8471862087651563}, {\"var_smoothing\": 2.848035868435799e-08, \"test_score\": 0.8471862087651563}, {\"var_smoothing\": 2.310129700083158e-08, \"test_score\": 0.8471862087651563}, {\"var_smoothing\": 1.873817422860383e-08, \"test_score\": 0.8471862087651563}, {\"var_smoothing\": 1.519911082952933e-08, \"test_score\": 0.8471862087651563}, {\"var_smoothing\": 1.232846739442066e-08, \"test_score\": 0.8471862087651563}, {\"var_smoothing\": 1e-08, \"test_score\": 0.8471862087651563}, {\"var_smoothing\": 8.111308307896856e-09, \"test_score\": 0.8471862087651563}, {\"var_smoothing\": 6.579332246575682e-09, \"test_score\": 0.8471862087651563}, {\"var_smoothing\": 5.336699231206302e-09, \"test_score\": 0.8471862087651563}, {\"var_smoothing\": 4.328761281083061e-09, \"test_score\": 0.8471862087651563}, {\"var_smoothing\": 3.5111917342151273e-09, \"test_score\": 0.8471862087651563}, {\"var_smoothing\": 2.848035868435805e-09, \"test_score\": 0.8471862087651563}, {\"var_smoothing\": 2.310129700083158e-09, \"test_score\": 0.8471862087651563}, {\"var_smoothing\": 1.873817422860387e-09, \"test_score\": 0.8471862087651563}, {\"var_smoothing\": 1.519911082952933e-09, \"test_score\": 0.8471862087651563}, {\"var_smoothing\": 1.2328467394420635e-09, \"test_score\": 0.8471862087651563}, {\"var_smoothing\": 1e-09, \"test_score\": 0.8471862087651563}]}}, {\"mode\": \"vega-lite\"});\n",
       "</script>"
      ],
      "text/plain": [
       "alt.Chart(...)"
      ]
     },
     "execution_count": 55,
     "metadata": {},
     "output_type": "execute_result"
    }
   ],
   "source": [
    "alt.Chart(results_NB, \n",
    "          title='NB Performance Comparison'\n",
    "         ).mark_line(point=True).encode(\n",
    "    alt.X('var_smoothing', title='Var. Smoothing'),\n",
    "    alt.Y('test_score', title='Mean AUC Score', scale=alt.Scale(zero=False))\n",
    ").interactive()"
   ]
  },
  {
   "cell_type": "markdown",
   "metadata": {},
   "source": [
    "###  Support Vector Machine Classifier Model Hyperparameter Tuning\n"
   ]
  },
  {
   "cell_type": "markdown",
   "metadata": {},
   "source": [
    "Fitting a Support Vector Machine model for the 5 relevant features in the dataset by determining the best possible hyperparameter combination using the gridsearch method.The hyperparameters defined for the SVM tuning involves the type of kernel i.e type of hyperplane used to separate the data,'gamma' value for the non-linear hyperplanes and the error term penalty parameter 'C' that controls the trade off between smooth decision boundary and classifying the training points correctly.The SVM model hyperparameter values considered for the tuning process are as follows:\n",
    "* Kernel: Linear, Radial basis function(rbf)\n",
    "* C : 0.001, 0.10, 0.1, 10, 25, 50,100,1000\n",
    "* gamma : 1e-2, 1e-3, 1e-4, 1e-5 (for rbf kernel only) "
   ]
  },
  {
   "cell_type": "code",
   "execution_count": 56,
   "metadata": {},
   "outputs": [
    {
     "name": "stderr",
     "output_type": "stream",
     "text": [
      "[Parallel(n_jobs=1)]: Using backend SequentialBackend with 1 concurrent workers.\n"
     ]
    },
    {
     "name": "stdout",
     "output_type": "stream",
     "text": [
      "Fitting 15 folds for each of 35 candidates, totalling 525 fits\n"
     ]
    },
    {
     "name": "stderr",
     "output_type": "stream",
     "text": [
      "[Parallel(n_jobs=1)]: Done 525 out of 525 | elapsed:    5.5s finished\n"
     ]
    }
   ],
   "source": [
    "from sklearn.svm import SVC\n",
    "\n",
    "params_SVM = [{'kernel': ['rbf'], 'gamma': [1e-2, 1e-3, 1e-4, 1e-5],\n",
    "                     'C': [0.001, 0.10, 0.1, 10, 25, 50, 100]},\n",
    "                    {'kernel': ['linear'], 'C': [0.001, 0.10, 0.1, 10, 25, 50, 100]}\n",
    "                   ]\n",
    "\n",
    "gs_SVM = GridSearchCV(estimator=SVC(), \n",
    "                     param_grid=params_SVM, \n",
    "                     cv=cv_method,\n",
    "                     verbose=1, \n",
    "                     scoring='roc_auc')\n",
    "\n",
    "\n",
    "gs_SVM.fit(diabetes_train_features, target_train);"
   ]
  },
  {
   "cell_type": "code",
   "execution_count": 57,
   "metadata": {},
   "outputs": [
    {
     "data": {
      "text/plain": [
       "{'C': 25, 'gamma': 0.01, 'kernel': 'rbf'}"
      ]
     },
     "execution_count": 57,
     "metadata": {},
     "output_type": "execute_result"
    }
   ],
   "source": [
    "gs_SVM.best_params_\n"
   ]
  },
  {
   "cell_type": "code",
   "execution_count": 58,
   "metadata": {},
   "outputs": [
    {
     "data": {
      "text/plain": [
       "0.838727900833164"
      ]
     },
     "execution_count": 58,
     "metadata": {},
     "output_type": "execute_result"
    }
   ],
   "source": [
    "gs_SVM.best_score_\n"
   ]
  },
  {
   "cell_type": "markdown",
   "metadata": {},
   "source": [
    "The best performing SVM model turned out to be the rbf kernel with the gamma score of 0.01 and 'C' error term penalty value of 25 with the mean AUC crossvalidation score of 0.838.\n"
   ]
  },
  {
   "cell_type": "code",
   "execution_count": 59,
   "metadata": {},
   "outputs": [],
   "source": [
    "results_SVM = pd.DataFrame(gs_SVM.cv_results_['params'])\n",
    "results_SVM['test_score'] = gs_SVM.cv_results_['mean_test_score']\n",
    "\n",
    "\n"
   ]
  },
  {
   "cell_type": "markdown",
   "metadata": {},
   "source": [
    "The plot shows the grid search results for the SVM classifier model.The SVM model with the 'rbf' kernel having gamma score of 0.01 and  'C' error term penalty outperforms other hyperparameter combinations."
   ]
  },
  {
   "cell_type": "code",
   "execution_count": 60,
   "metadata": {},
   "outputs": [
    {
     "data": {
      "text/html": [
       "\n",
       "<div id=\"altair-viz-40231278f9c2443bae36d40b08ed876e\"></div>\n",
       "<script type=\"text/javascript\">\n",
       "  (function(spec, embedOpt){\n",
       "    let outputDiv = document.currentScript.previousElementSibling;\n",
       "    if (outputDiv.id !== \"altair-viz-40231278f9c2443bae36d40b08ed876e\") {\n",
       "      outputDiv = document.getElementById(\"altair-viz-40231278f9c2443bae36d40b08ed876e\");\n",
       "    }\n",
       "    const paths = {\n",
       "      \"vega\": \"https://cdn.jsdelivr.net/npm//vega@5?noext\",\n",
       "      \"vega-lib\": \"https://cdn.jsdelivr.net/npm//vega-lib?noext\",\n",
       "      \"vega-lite\": \"https://cdn.jsdelivr.net/npm//vega-lite@4.8.1?noext\",\n",
       "      \"vega-embed\": \"https://cdn.jsdelivr.net/npm//vega-embed@6?noext\",\n",
       "    };\n",
       "\n",
       "    function loadScript(lib) {\n",
       "      return new Promise(function(resolve, reject) {\n",
       "        var s = document.createElement('script');\n",
       "        s.src = paths[lib];\n",
       "        s.async = true;\n",
       "        s.onload = () => resolve(paths[lib]);\n",
       "        s.onerror = () => reject(`Error loading script: ${paths[lib]}`);\n",
       "        document.getElementsByTagName(\"head\")[0].appendChild(s);\n",
       "      });\n",
       "    }\n",
       "\n",
       "    function showError(err) {\n",
       "      outputDiv.innerHTML = `<div class=\"error\" style=\"color:red;\">${err}</div>`;\n",
       "      throw err;\n",
       "    }\n",
       "\n",
       "    function displayChart(vegaEmbed) {\n",
       "      vegaEmbed(outputDiv, spec, embedOpt)\n",
       "        .catch(err => showError(`Javascript Error: ${err.message}<br>This usually means there's a typo in your chart specification. See the javascript console for the full traceback.`));\n",
       "    }\n",
       "\n",
       "    if(typeof define === \"function\" && define.amd) {\n",
       "      requirejs.config({paths});\n",
       "      require([\"vega-embed\"], displayChart, err => showError(`Error loading script: ${err.message}`));\n",
       "    } else if (typeof vegaEmbed === \"function\") {\n",
       "      displayChart(vegaEmbed);\n",
       "    } else {\n",
       "      loadScript(\"vega\")\n",
       "        .then(() => loadScript(\"vega-lite\"))\n",
       "        .then(() => loadScript(\"vega-embed\"))\n",
       "        .catch(showError)\n",
       "        .then(() => displayChart(vegaEmbed));\n",
       "    }\n",
       "  })({\"config\": {\"view\": {\"continuousWidth\": 400, \"continuousHeight\": 300}}, \"data\": {\"name\": \"data-35f0755835b288d1bf2de45a2687dd4e\"}, \"mark\": {\"type\": \"line\", \"point\": true}, \"encoding\": {\"color\": {\"type\": \"nominal\", \"field\": \"kernel\"}, \"x\": {\"type\": \"quantitative\", \"field\": \"C\", \"title\": \"C\"}, \"y\": {\"type\": \"quantitative\", \"field\": \"test_score\", \"scale\": {\"zero\": false}, \"title\": \"Mean AUC Score\"}}, \"title\": \"SVM Performance Comparison\", \"$schema\": \"https://vega.github.io/schema/vega-lite/v4.8.1.json\", \"datasets\": {\"data-35f0755835b288d1bf2de45a2687dd4e\": [{\"C\": 0.001, \"gamma\": 0.01, \"kernel\": \"rbf\", \"test_score\": 0.8375276027907609}, {\"C\": 0.001, \"gamma\": 0.001, \"kernel\": \"rbf\", \"test_score\": 0.8372200772200773}, {\"C\": 0.001, \"gamma\": 0.0001, \"kernel\": \"rbf\", \"test_score\": 0.8376793334688072}, {\"C\": 0.001, \"gamma\": 1e-05, \"kernel\": \"rbf\", \"test_score\": 0.8379577321682585}, {\"C\": 0.1, \"gamma\": 0.01, \"kernel\": \"rbf\", \"test_score\": 0.8372464946149155}, {\"C\": 0.1, \"gamma\": 0.001, \"kernel\": \"rbf\", \"test_score\": 0.837018898597846}, {\"C\": 0.1, \"gamma\": 0.0001, \"kernel\": \"rbf\", \"test_score\": 0.8376996545417598}, {\"C\": 0.1, \"gamma\": 1e-05, \"kernel\": \"rbf\", \"test_score\": 0.8377030413872518}, {\"C\": 0.1, \"gamma\": 0.01, \"kernel\": \"rbf\", \"test_score\": 0.8372464946149155}, {\"C\": 0.1, \"gamma\": 0.001, \"kernel\": \"rbf\", \"test_score\": 0.837018898597846}, {\"C\": 0.1, \"gamma\": 0.0001, \"kernel\": \"rbf\", \"test_score\": 0.8376996545417598}, {\"C\": 0.1, \"gamma\": 1e-05, \"kernel\": \"rbf\", \"test_score\": 0.8377030413872518}, {\"C\": 10.0, \"gamma\": 0.01, \"kernel\": \"rbf\", \"test_score\": 0.8362358599200707}, {\"C\": 10.0, \"gamma\": 0.001, \"kernel\": \"rbf\", \"test_score\": 0.837603468129784}, {\"C\": 10.0, \"gamma\": 0.0001, \"kernel\": \"rbf\", \"test_score\": 0.8373528415633679}, {\"C\": 10.0, \"gamma\": 1e-05, \"kernel\": \"rbf\", \"test_score\": 0.837248526722211}, {\"C\": 25.0, \"gamma\": 0.01, \"kernel\": \"rbf\", \"test_score\": 0.838727900833164}, {\"C\": 25.0, \"gamma\": 0.001, \"kernel\": \"rbf\", \"test_score\": 0.8375011853959223}, {\"C\": 25.0, \"gamma\": 0.0001, \"kernel\": \"rbf\", \"test_score\": 0.8375255706834656}, {\"C\": 25.0, \"gamma\": 1e-05, \"kernel\": \"rbf\", \"test_score\": 0.8362832757569599}, {\"C\": 50.0, \"gamma\": 0.01, \"kernel\": \"rbf\", \"test_score\": 0.8384366321208425}, {\"C\": 50.0, \"gamma\": 0.001, \"kernel\": \"rbf\", \"test_score\": 0.8375526654474024}, {\"C\": 50.0, \"gamma\": 0.0001, \"kernel\": \"rbf\", \"test_score\": 0.8375513107092054}, {\"C\": 50.0, \"gamma\": 1e-05, \"kernel\": \"rbf\", \"test_score\": 0.8371719840140892}, {\"C\": 100.0, \"gamma\": 0.01, \"kernel\": \"rbf\", \"test_score\": 0.8387251913567704}, {\"C\": 100.0, \"gamma\": 0.001, \"kernel\": \"rbf\", \"test_score\": 0.8362101198943305}, {\"C\": 100.0, \"gamma\": 0.0001, \"kernel\": \"rbf\", \"test_score\": 0.8375262480525639}, {\"C\": 100.0, \"gamma\": 1e-05, \"kernel\": \"rbf\", \"test_score\": 0.8375790828422407}, {\"C\": 0.001, \"gamma\": null, \"kernel\": \"linear\", \"test_score\": 0.8370459933617828}, {\"C\": 0.1, \"gamma\": null, \"kernel\": \"linear\", \"test_score\": 0.8375269254216622}, {\"C\": 0.1, \"gamma\": null, \"kernel\": \"linear\", \"test_score\": 0.8375269254216622}, {\"C\": 10.0, \"gamma\": null, \"kernel\": \"linear\", \"test_score\": 0.837814129919393}, {\"C\": 25.0, \"gamma\": null, \"kernel\": \"linear\", \"test_score\": 0.838315383052225}, {\"C\": 50.0, \"gamma\": null, \"kernel\": \"linear\", \"test_score\": 0.8382429045586939}, {\"C\": 100.0, \"gamma\": null, \"kernel\": \"linear\", \"test_score\": 0.8378913499966132}]}}, {\"mode\": \"vega-lite\"});\n",
       "</script>"
      ],
      "text/plain": [
       "alt.Chart(...)"
      ]
     },
     "execution_count": 60,
     "metadata": {},
     "output_type": "execute_result"
    }
   ],
   "source": [
    "import altair as alt\n",
    "\n",
    "alt.Chart(results_SVM, \n",
    "          title='SVM Performance Comparison'\n",
    "         ).mark_line(point=True).encode(\n",
    "    alt.X('C', title='C'),\n",
    "    alt.Y('test_score', title='Mean AUC Score', scale=alt.Scale(zero=False)),\n",
    "    color='kernel'\n",
    ")"
   ]
  },
  {
   "cell_type": "markdown",
   "metadata": {},
   "source": [
    "## Performance comparison of classifier models <a class=\"anchor\" id=\"8\"></a> "
   ]
  },
  {
   "cell_type": "markdown",
   "metadata": {},
   "source": [
    "In the hyperparameter tuning phase, we only used the top 5 relevant features for training the various classifier models on 537 observations of the training data.We found the best hyperparameter values that gave the optimal performance score for each of the five classifiers. \n",
    "We now compare the performance of the classifier models by fitting each tuned classifier with the best set of hyperparameter values on the test data to determine which classifier algorithm performs the best.A 5-fold stratified cross-validation with 3 repetitions was performed on each of the five classifier with the seed set to the same value used in each of the cross-validation phases.We then compare the best performing tuned classifier on the test data with the other classifiers using a pairwise t-test for the AUC performance score to determine if there is any statistical significant difference between the performance of the tuned classifier models."
   ]
  },
  {
   "cell_type": "code",
   "execution_count": 61,
   "metadata": {},
   "outputs": [
    {
     "data": {
      "text/plain": [
       "0.8160743464052287"
      ]
     },
     "execution_count": 61,
     "metadata": {},
     "output_type": "execute_result"
    }
   ],
   "source": [
    "from sklearn.model_selection import cross_val_score\n",
    "cv_test_method = RepeatedStratifiedKFold(n_splits=5,n_repeats=3, \n",
    "                                    random_state=99)\n",
    "\n",
    "cv_results_KNN = cross_val_score(estimator=gs_KNN.best_estimator_,\n",
    "                                 X=diabetes_test_features,\n",
    "                                 y=target_test, \n",
    "                                 cv=cv_test_method, \n",
    "                                 scoring='roc_auc')\n",
    "cv_results_KNN.mean()"
   ]
  },
  {
   "cell_type": "code",
   "execution_count": 62,
   "metadata": {},
   "outputs": [
    {
     "data": {
      "text/plain": [
       "0.7336315359477124"
      ]
     },
     "execution_count": 62,
     "metadata": {},
     "output_type": "execute_result"
    }
   ],
   "source": [
    "cv_results_DT = cross_val_score(estimator=gs_DT.best_estimator_,\n",
    "                                 X=diabetes_test_features,\n",
    "                                 y=target_test, \n",
    "                                 cv=cv_test_method, \n",
    "                                 scoring='roc_auc')\n",
    "cv_results_DT.mean()"
   ]
  },
  {
   "cell_type": "code",
   "execution_count": 63,
   "metadata": {},
   "outputs": [
    {
     "data": {
      "text/plain": [
       "0.8005800653594772"
      ]
     },
     "execution_count": 63,
     "metadata": {},
     "output_type": "execute_result"
    }
   ],
   "source": [
    "cv_results_RF = cross_val_score(estimator=gs_RF.best_estimator_,\n",
    "                                 X=diabetes_test_features,\n",
    "                                 y=target_test, \n",
    "                                 cv=cv_test_method, \n",
    "                                 scoring='roc_auc')\n",
    "cv_results_RF.mean()"
   ]
  },
  {
   "cell_type": "code",
   "execution_count": 64,
   "metadata": {},
   "outputs": [
    {
     "data": {
      "text/plain": [
       "0.8205555555555556"
      ]
     },
     "execution_count": 64,
     "metadata": {},
     "output_type": "execute_result"
    }
   ],
   "source": [
    "diabetes_test_features_transformed = PowerTransformer().fit_transform(diabetes_test_features)\n",
    "\n",
    "cv_results_NB = cross_val_score(estimator=gs_NB.best_estimator_,\n",
    "                                 X=diabetes_test_features_transformed,\n",
    "                                 y=target_test, \n",
    "                                 cv=cv_test_method, \n",
    "                                 scoring='roc_auc')\n",
    "cv_results_NB.mean()"
   ]
  },
  {
   "cell_type": "code",
   "execution_count": 65,
   "metadata": {},
   "outputs": [
    {
     "data": {
      "text/plain": [
       "0.7985294117647059"
      ]
     },
     "execution_count": 65,
     "metadata": {},
     "output_type": "execute_result"
    }
   ],
   "source": [
    "cv_results_SVM = cross_val_score(estimator=gs_SVM.best_estimator_,\n",
    "                                 X=diabetes_test_features,\n",
    "                                 y=target_test, \n",
    "                                 cv=cv_test_method, \n",
    "                                 scoring='roc_auc')\n",
    "cv_results_SVM.mean()"
   ]
  },
  {
   "cell_type": "markdown",
   "metadata": {},
   "source": [
    "The five tuned classifier models were fitted on the same test data and it was found that the Naive-Bayes classifier model has a better AUC performance score compared to the other classifier models.We run the pairwise t-tests to determine whether the Naive Bayes classifier performance is statistically significant than the other models."
   ]
  },
  {
   "cell_type": "code",
   "execution_count": 66,
   "metadata": {},
   "outputs": [
    {
     "name": "stdout",
     "output_type": "stream",
     "text": [
      "Ttest_relResult(statistic=0.3933054058895807, pvalue=0.7000181998684651)\n",
      "Ttest_relResult(statistic=5.179783403888034, pvalue=0.00013965758354926485)\n",
      "Ttest_relResult(statistic=2.070843380219358, pvalue=0.057338092812659114)\n",
      "Ttest_relResult(statistic=2.916341453342852, pvalue=0.011272005945876917)\n"
     ]
    }
   ],
   "source": [
    "from scipy import stats\n",
    "\n",
    "# Comparing NB with other tuned classifiers \n",
    "# p-value < 0.05 indicates a statistically significant result\n",
    "\n",
    "print(stats.ttest_rel(cv_results_NB, cv_results_KNN))\n",
    "print(stats.ttest_rel(cv_results_NB, cv_results_DT))\n",
    "print(stats.ttest_rel(cv_results_NB, cv_results_RF))\n",
    "print(stats.ttest_rel(cv_results_NB, cv_results_SVM))\n"
   ]
  },
  {
   "cell_type": "markdown",
   "metadata": {},
   "source": [
    "As per the results,Gaussian Naive-Bayes classifier statistically performs better than most classifier models at a 95% significance level on the test data with a p-value smaller than 0.05 indicating a statistically significant difference.However, we can also consider the K-NN classifier model as there is not much difference in the performance score in comparison to the Naive Bayes classifier. \n",
    "\n"
   ]
  },
  {
   "cell_type": "markdown",
   "metadata": {},
   "source": [
    "## Model Evaluation Metrics <a class=\"anchor\" id=\"9\"></a> "
   ]
  },
  {
   "cell_type": "markdown",
   "metadata": {},
   "source": [
    "Performance comparison of the model based on the other evaluation metrics for the test data:\n",
    "* Confusion matrix\n",
    "* Accuracy\n",
    "* Precision\n",
    "* Recall\n",
    "* F1 Score (harmonic average of precision and recall)\n"
   ]
  },
  {
   "cell_type": "markdown",
   "metadata": {},
   "source": [
    "Computing the predictions for the test data containing only the relevant features for each of the classifier:"
   ]
  },
  {
   "cell_type": "code",
   "execution_count": 67,
   "metadata": {},
   "outputs": [],
   "source": [
    "#KNN \n",
    "pred_KNN = gs_KNN.predict(diabetes_test_features)\n",
    "\n",
    "#DT\n",
    "pred_DT = gs_DT.predict(diabetes_test_features)\n",
    "\n",
    "#NB\n",
    "pred_NB = gs_NB.predict(diabetes_test_features_transformed)\n",
    "\n",
    "#RF\n",
    "pred_RF = gs_RF.predict(diabetes_test_features)\n",
    "\n",
    "#SVM\n",
    "pred_SVM = gs_SVM.predict(diabetes_test_features)\n"
   ]
  },
  {
   "cell_type": "markdown",
   "metadata": {},
   "source": [
    "Confusion matrix for the 5 classifier models as follows:"
   ]
  },
  {
   "cell_type": "code",
   "execution_count": 68,
   "metadata": {},
   "outputs": [
    {
     "name": "stdout",
     "output_type": "stream",
     "text": [
      "\n",
      "Confusion matrix for K-Nearest Neighbor\n",
      "[[132  18]\n",
      " [ 35  46]]\n",
      "\n",
      "Confusion matrix for Decision Tree\n",
      "[[121  29]\n",
      " [ 33  48]]\n",
      "\n",
      "Confusion matrix for Random Forest\n",
      "[[127  23]\n",
      " [ 29  52]]\n",
      "\n",
      "Confusion matrix for Naive Bayes\n",
      "[[130  20]\n",
      " [ 31  50]]\n",
      "\n",
      "Confusion matrix for SVM\n",
      "[[130  20]\n",
      " [ 40  41]]\n"
     ]
    }
   ],
   "source": [
    "from sklearn import metrics\n",
    "print(\"\\nConfusion matrix for K-Nearest Neighbor\") \n",
    "print(metrics.confusion_matrix(target_test, pred_KNN))\n",
    "print(\"\\nConfusion matrix for Decision Tree\") \n",
    "print(metrics.confusion_matrix(target_test, pred_DT))\n",
    "print(\"\\nConfusion matrix for Random Forest\") \n",
    "print(metrics.confusion_matrix(target_test, pred_RF))\n",
    "print(\"\\nConfusion matrix for Naive Bayes\") \n",
    "print(metrics.confusion_matrix(target_test, pred_NB))\n",
    "print(\"\\nConfusion matrix for SVM\") \n",
    "print(metrics.confusion_matrix(target_test, pred_SVM))"
   ]
  },
  {
   "cell_type": "markdown",
   "metadata": {},
   "source": [
    "The classification report for the models as follows:"
   ]
  },
  {
   "cell_type": "code",
   "execution_count": 69,
   "metadata": {},
   "outputs": [
    {
     "name": "stdout",
     "output_type": "stream",
     "text": [
      "\n",
      "Classification report for K-Nearest Neighbor\n",
      "              precision    recall  f1-score   support\n",
      "\n",
      "           0       0.79      0.88      0.83       150\n",
      "           1       0.72      0.57      0.63        81\n",
      "\n",
      "    accuracy                           0.77       231\n",
      "   macro avg       0.75      0.72      0.73       231\n",
      "weighted avg       0.77      0.77      0.76       231\n",
      "\n",
      "\n",
      "Classification report for Decision Tree\n",
      "              precision    recall  f1-score   support\n",
      "\n",
      "           0       0.79      0.81      0.80       150\n",
      "           1       0.62      0.59      0.61        81\n",
      "\n",
      "    accuracy                           0.73       231\n",
      "   macro avg       0.70      0.70      0.70       231\n",
      "weighted avg       0.73      0.73      0.73       231\n",
      "\n",
      "\n",
      "Classification report for Random Forest\n",
      "              precision    recall  f1-score   support\n",
      "\n",
      "           0       0.81      0.85      0.83       150\n",
      "           1       0.69      0.64      0.67        81\n",
      "\n",
      "    accuracy                           0.77       231\n",
      "   macro avg       0.75      0.74      0.75       231\n",
      "weighted avg       0.77      0.77      0.77       231\n",
      "\n",
      "\n",
      "Classification report for Naive Bayes\n",
      "              precision    recall  f1-score   support\n",
      "\n",
      "           0       0.81      0.87      0.84       150\n",
      "           1       0.71      0.62      0.66        81\n",
      "\n",
      "    accuracy                           0.78       231\n",
      "   macro avg       0.76      0.74      0.75       231\n",
      "weighted avg       0.77      0.78      0.78       231\n",
      "\n",
      "\n",
      "Classification report for SVM\n",
      "              precision    recall  f1-score   support\n",
      "\n",
      "           0       0.76      0.87      0.81       150\n",
      "           1       0.67      0.51      0.58        81\n",
      "\n",
      "    accuracy                           0.74       231\n",
      "   macro avg       0.72      0.69      0.69       231\n",
      "weighted avg       0.73      0.74      0.73       231\n",
      "\n"
     ]
    }
   ],
   "source": [
    "from sklearn import metrics\n",
    "print(\"\\nClassification report for K-Nearest Neighbor\") \n",
    "print(metrics.classification_report(target_test, pred_KNN))\n",
    "print(\"\\nClassification report for Decision Tree\") \n",
    "print(metrics.classification_report(target_test, pred_DT))\n",
    "print(\"\\nClassification report for Random Forest\") \n",
    "print(metrics.classification_report(target_test, pred_RF))\n",
    "print(\"\\nClassification report for Naive Bayes\") \n",
    "print(metrics.classification_report(target_test, pred_NB))\n",
    "print(\"\\nClassification report for SVM\") \n",
    "print(metrics.classification_report(target_test, pred_SVM))\n"
   ]
  },
  {
   "cell_type": "markdown",
   "metadata": {},
   "source": [
    "As stated earlier,we used the AUC performance metric to determine the best performing model as the main objective was to identify the model that accurately predicts the diabetic class of patients better in comparison to the wrongly predicted diabetic class since this dataset suffers from a class imbalance problem. We can also consider the F1-score as the performance measure for the data in which case the Random Forest classifier performs better than the other models."
   ]
  },
  {
   "cell_type": "markdown",
   "metadata": {},
   "source": [
    "## Limitations & Future Scope <a class=\"anchor\" id=\"10\"></a> "
   ]
  },
  {
   "cell_type": "markdown",
   "metadata": {},
   "source": [
    "The approach taken for building our statistical models poses certain limitations.Firstly, there is quite discrepancy between the train and test scores.This could possibly be due to the noise such as outliers in the dataset.The hyperparameter space that we have selected for our classifiers may have missed out on better parameters.The class imbalance problem also imposes a problem in identifying the positive classes as the number of non-diabetic patients is more.Even though we trained and tested the data using cross-validation,we could consider collecting more data for the the dataset and considering a larger group of female patients.We should also consider a proper analysis of our choices for the hyperparameter spaces in the near future.Furthermore, we can consider other classifier methods such as logistic regression to better fit our model.\n"
   ]
  },
  {
   "cell_type": "markdown",
   "metadata": {},
   "source": [
    "## Summary & Conclusion <a class=\"anchor\" id=\"11\"></a> "
   ]
  },
  {
   "cell_type": "markdown",
   "metadata": {},
   "source": [
    "The five classifiers tuned with the best hyperparameter values were fit on the training data using the top 5 relevant features as selected by the Random Forest Importance Method(RFI) and were evaluated on their AUC performance scores based on the objective .It was found that the Gaussian Naive Bayes,K-Nearest Neighbour and the Random forest model overall performed better on the training data in terms of the AUC performance metric.The Gaussian Naive Bayes model may have slightly outperformed the other models in terms of performance however there wasn't much difference in the performance scores of the other classifier models. When the classifiers were fit on the test data,there was a considerable difference in the performance of the classifier models as compared to the performance on the training data.The Gaussian Naive Bayes model in particular showed a high AUC performance score in comparison to the other classifiers with K-NN following closely behind.In terms of the F1-score, the Random Forest classifier model outperformed other classifiers on the test data. "
   ]
  },
  {
   "cell_type": "markdown",
   "metadata": {},
   "source": [
    "## References <a class=\"anchor\" id=\"12\"></a> "
   ]
  },
  {
   "cell_type": "markdown",
   "metadata": {},
   "source": [
    "* Kaggle.com. 2020. Pima Indians Diabetes Database. [online] Available at: <https://www.kaggle.com/uciml/pima-indians-diabetes-database> [Accessed 22 May 2020].\n",
    "* Case Study: Predicting Income Status | [online] Available at: <https://www.featureranking.com/tutorials/machine-learning-tutorials/case-study-predicting-income-status/#6> [Accessed 25 May 2020].\n",
    "* Scikit-learn.org. 2020. 3.2. Tuning The Hyper-Parameters Of An Estimator — Scikit-Learn 0.23.1 Documentation. [online] Available at: <https://scikit-learn.org/stable/modules/grid_search.html> [Accessed 29 May 2020]."
   ]
  }
 ],
 "metadata": {
  "kernelspec": {
   "display_name": "Python 3",
   "language": "python",
   "name": "python3"
  },
  "language_info": {
   "codemirror_mode": {
    "name": "ipython",
    "version": 3
   },
   "file_extension": ".py",
   "mimetype": "text/x-python",
   "name": "python",
   "nbconvert_exporter": "python",
   "pygments_lexer": "ipython3",
   "version": "3.7.6"
  }
 },
 "nbformat": 4,
 "nbformat_minor": 4
}
